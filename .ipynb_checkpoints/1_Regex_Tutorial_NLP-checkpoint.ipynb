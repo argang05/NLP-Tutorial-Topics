{
 "cells": [
  {
   "cell_type": "code",
   "execution_count": 1,
   "id": "68e6c2bf-2f87-4c63-afdc-03e074698cad",
   "metadata": {},
   "outputs": [],
   "source": [
    "import re"
   ]
  },
  {
   "cell_type": "code",
   "execution_count": 17,
   "id": "fa025bf0-9736-4288-950f-d32ce8d30e2b",
   "metadata": {},
   "outputs": [],
   "source": [
    "chat1 = 'codebasics: you ask lot of questions 😠 1235678912, abc@xyz.com'\n",
    "chat2 = 'codebasics: here it is: (123)-567-8912, abX_76@xyz.com'\n",
    "chat3 = 'codebasics: yes, phone: 1235678912 email: abc@xyz.com'\n",
    "chat4 = 'codebasics: Hello, I am having an issue with my order # 412889912'\n",
    "chat5 = 'codebasics: I have a problem with my order number 412889912'\n",
    "chat6 = 'codebasics: My order 412889912 is having an issue, I was charged 300$ when online it says 280$'"
   ]
  },
  {
   "cell_type": "code",
   "execution_count": 22,
   "id": "f29e3470-363c-4d63-9276-cdbadae901b6",
   "metadata": {},
   "outputs": [
    {
     "name": "stdout",
     "output_type": "stream",
     "text": [
      "412889912\n"
     ]
    }
   ],
   "source": [
    "patternPhoneNumber= r'\\d{10}|\\(\\d{3}\\)-\\d{3}-\\d{4}'\n",
    "patternEmailAddress= r'[a-z0-9A-Z_]*@[a-z0-9A-Z]*\\.[a-zA-Z]*'\n",
    "patternOrderId= r'order[^\\d]*(\\d*)'\n",
    "\n",
    "matches = re.findall(patternOrderId,chat6)\n",
    "# emailOne = matches[0]\n",
    "print(f\"{matches[0]}\")"
   ]
  },
  {
   "cell_type": "code",
   "execution_count": null,
   "id": "9862b1a1-23f6-4118-8d99-2775137d10e2",
   "metadata": {},
   "outputs": [],
   "source": []
  }
 ],
 "metadata": {
  "kernelspec": {
   "display_name": "Python 3 (ipykernel)",
   "language": "python",
   "name": "python3"
  },
  "language_info": {
   "codemirror_mode": {
    "name": "ipython",
    "version": 3
   },
   "file_extension": ".py",
   "mimetype": "text/x-python",
   "name": "python",
   "nbconvert_exporter": "python",
   "pygments_lexer": "ipython3",
   "version": "3.12.1"
  }
 },
 "nbformat": 4,
 "nbformat_minor": 5
}
