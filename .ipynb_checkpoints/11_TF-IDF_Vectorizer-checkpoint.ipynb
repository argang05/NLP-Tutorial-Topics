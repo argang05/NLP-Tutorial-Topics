{
 "cells": [
  {
   "cell_type": "markdown",
   "id": "a8c349c9-b003-4494-aad1-383ec02f0d83",
   "metadata": {},
   "source": [
    "##### TF-IDF Vectorizer = Term Frequency - Inverse Document Frequency  Vectorizer:\n",
    "##### IDF = log[(Total Number Of Docs) / (Number Docs where Term 't' appears)]\n",
    "##### TF = (Number of time term 't' appears in a Doc) / (total number of terms/tokens in the Doc)\n",
    "##### TF-IDF = TF * IDF"
   ]
  },
  {
   "cell_type": "code",
   "execution_count": 13,
   "id": "5e2fc559-840c-42c6-97a6-15a35b0dbef3",
   "metadata": {},
   "outputs": [],
   "source": [
    "from sklearn.feature_extraction.text import TfidfVectorizer\n",
    "\n",
    "corpus = [\n",
    "    \"Thor eating pizza, Loki is eating pizza, Ironman ate pizza already\",\n",
    "    \"Apple is announcing new iphone tomorrow\",\n",
    "    \"Tesla is announcing new model-3 tomorrow\",\n",
    "    \"Google is announcing new pixel-6 tomorrow\",\n",
    "    \"Microsoft is announcing new surface tomorrow\",\n",
    "    \"Amazon is announcing new eco-dot tomorrow\",\n",
    "    \"I am eating biryani and you are eating grapes\",\n",
    "    \"something is amazing\"\n",
    "]"
   ]
  },
  {
   "cell_type": "code",
   "execution_count": 14,
   "id": "01693d39-45cf-47ec-82ef-db748ab0ec5a",
   "metadata": {},
   "outputs": [
    {
     "name": "stdout",
     "output_type": "stream",
     "text": [
      "{'thor': 27, 'eating': 11, 'pizza': 23, 'loki': 18, 'is': 17, 'ironman': 16, 'ate': 8, 'already': 0, 'apple': 6, 'announcing': 5, 'new': 21, 'iphone': 15, 'tomorrow': 28, 'tesla': 26, 'model': 20, 'google': 13, 'pixel': 22, 'microsoft': 19, 'surface': 25, 'amazon': 3, 'eco': 12, 'dot': 10, 'am': 1, 'biryani': 9, 'and': 4, 'you': 29, 'are': 7, 'grapes': 14, 'something': 24, 'amazing': 2}\n"
     ]
    }
   ],
   "source": [
    "tf_Idf_Vec = TfidfVectorizer()\n",
    "# Fitting the corpus to generate vocaulary and then generating the tf-idf values vectors:  \n",
    "transformed_output = tf_Idf_Vec.fit_transform(corpus)\n",
    "print(tf_Idf_Vec.vocabulary_)"
   ]
  },
  {
   "cell_type": "code",
   "execution_count": 15,
   "id": "bc6a752a-4f0b-4c0e-a5d9-b24391d19c19",
   "metadata": {},
   "outputs": [],
   "source": [
    "#Extracting all feature names from vocabulary:\n",
    "all_feature_names = tf_Idf_Vec.get_feature_names_out()"
   ]
  },
  {
   "cell_type": "code",
   "execution_count": 16,
   "id": "3cf3e23f-e772-4f7f-9b2c-e8e25c449318",
   "metadata": {},
   "outputs": [
    {
     "name": "stdout",
     "output_type": "stream",
     "text": [
      "[already : 2.504077396776274]\n",
      "[am : 2.504077396776274]\n",
      "[amazing : 2.504077396776274]\n",
      "[amazon : 2.504077396776274]\n",
      "[and : 2.504077396776274]\n",
      "[announcing : 1.4054651081081644]\n",
      "[apple : 2.504077396776274]\n",
      "[are : 2.504077396776274]\n",
      "[ate : 2.504077396776274]\n",
      "[biryani : 2.504077396776274]\n",
      "[dot : 2.504077396776274]\n",
      "[eating : 2.09861228866811]\n",
      "[eco : 2.504077396776274]\n",
      "[google : 2.504077396776274]\n",
      "[grapes : 2.504077396776274]\n",
      "[iphone : 2.504077396776274]\n",
      "[ironman : 2.504077396776274]\n",
      "[is : 1.1177830356563834]\n",
      "[loki : 2.504077396776274]\n",
      "[microsoft : 2.504077396776274]\n",
      "[model : 2.504077396776274]\n",
      "[new : 1.4054651081081644]\n",
      "[pixel : 2.504077396776274]\n",
      "[pizza : 2.504077396776274]\n",
      "[something : 2.504077396776274]\n",
      "[surface : 2.504077396776274]\n",
      "[tesla : 2.504077396776274]\n",
      "[thor : 2.504077396776274]\n",
      "[tomorrow : 1.4054651081081644]\n",
      "[you : 2.504077396776274]\n"
     ]
    }
   ],
   "source": [
    "#Printing IDF Scores:\n",
    "for word in all_feature_names:\n",
    "    indx = tf_Idf_Vec.vocabulary_.get(word)\n",
    "    print(f\"[{word} : {tf_Idf_Vec.idf_[indx]}]\")"
   ]
  },
  {
   "cell_type": "code",
   "execution_count": 17,
   "id": "c28840ae-44fe-48a4-8757-ecce148287f1",
   "metadata": {},
   "outputs": [
    {
     "data": {
      "text/plain": [
       "['Thor eating pizza, Loki is eating pizza, Ironman ate pizza already',\n",
       " 'Apple is announcing new iphone tomorrow']"
      ]
     },
     "execution_count": 17,
     "metadata": {},
     "output_type": "execute_result"
    }
   ],
   "source": [
    "corpus[:2]"
   ]
  },
  {
   "cell_type": "code",
   "execution_count": 18,
   "id": "25e5fc5a-3d6b-42d5-9738-76ad6ee02fb2",
   "metadata": {},
   "outputs": [
    {
     "data": {
      "text/plain": [
       "array([[0.24247317, 0.        , 0.        , 0.        , 0.        ,\n",
       "        0.        , 0.        , 0.        , 0.24247317, 0.        ,\n",
       "        0.        , 0.40642288, 0.        , 0.        , 0.        ,\n",
       "        0.        , 0.24247317, 0.10823643, 0.24247317, 0.        ,\n",
       "        0.        , 0.        , 0.        , 0.7274195 , 0.        ,\n",
       "        0.        , 0.        , 0.24247317, 0.        , 0.        ],\n",
       "       [0.        , 0.        , 0.        , 0.        , 0.        ,\n",
       "        0.31652498, 0.5639436 , 0.        , 0.        , 0.        ,\n",
       "        0.        , 0.        , 0.        , 0.        , 0.        ,\n",
       "        0.5639436 , 0.        , 0.25173606, 0.        , 0.        ,\n",
       "        0.        , 0.31652498, 0.        , 0.        , 0.        ,\n",
       "        0.        , 0.        , 0.        , 0.31652498, 0.        ]])"
      ]
     },
     "execution_count": 18,
     "metadata": {},
     "output_type": "execute_result"
    }
   ],
   "source": [
    "#Printing TF-IDF Vector for the above to strings:\n",
    "transformed_output.toarray()[:2]"
   ]
  },
  {
   "cell_type": "markdown",
   "id": "a1887269-1775-4fab-9d79-8effa7f438cf",
   "metadata": {},
   "source": [
    "#### Ecommerce Product Label/Category Classification Problem"
   ]
  },
  {
   "cell_type": "code",
   "execution_count": 2,
   "id": "da23c8b6-718f-4e5b-a904-f6d13bf0d4ef",
   "metadata": {},
   "outputs": [
    {
     "data": {
      "text/plain": [
       "(24000, 2)"
      ]
     },
     "execution_count": 2,
     "metadata": {},
     "output_type": "execute_result"
    }
   ],
   "source": [
    "import pandas as pd\n",
    "\n",
    "df = pd.read_csv(\"Ecommerce_data.csv\")\n",
    "\n",
    "df.shape"
   ]
  },
  {
   "cell_type": "code",
   "execution_count": 3,
   "id": "66fe9a3b-70a6-4c17-9ba7-aed2e1fd61c7",
   "metadata": {},
   "outputs": [
    {
     "data": {
      "text/html": [
       "<div>\n",
       "<style scoped>\n",
       "    .dataframe tbody tr th:only-of-type {\n",
       "        vertical-align: middle;\n",
       "    }\n",
       "\n",
       "    .dataframe tbody tr th {\n",
       "        vertical-align: top;\n",
       "    }\n",
       "\n",
       "    .dataframe thead th {\n",
       "        text-align: right;\n",
       "    }\n",
       "</style>\n",
       "<table border=\"1\" class=\"dataframe\">\n",
       "  <thead>\n",
       "    <tr style=\"text-align: right;\">\n",
       "      <th></th>\n",
       "      <th>Text</th>\n",
       "      <th>label</th>\n",
       "    </tr>\n",
       "  </thead>\n",
       "  <tbody>\n",
       "    <tr>\n",
       "      <th>0</th>\n",
       "      <td>Urban Ladder Eisner Low Back Study-Office Comp...</td>\n",
       "      <td>Household</td>\n",
       "    </tr>\n",
       "    <tr>\n",
       "      <th>1</th>\n",
       "      <td>Contrast living Wooden Decorative Box,Painted ...</td>\n",
       "      <td>Household</td>\n",
       "    </tr>\n",
       "    <tr>\n",
       "      <th>2</th>\n",
       "      <td>IO Crest SY-PCI40010 PCI RAID Host Controller ...</td>\n",
       "      <td>Electronics</td>\n",
       "    </tr>\n",
       "    <tr>\n",
       "      <th>3</th>\n",
       "      <td>ISAKAA Baby Socks from Just Born to 8 Years- P...</td>\n",
       "      <td>Clothing &amp; Accessories</td>\n",
       "    </tr>\n",
       "    <tr>\n",
       "      <th>4</th>\n",
       "      <td>Indira Designer Women's Art Mysore Silk Saree ...</td>\n",
       "      <td>Clothing &amp; Accessories</td>\n",
       "    </tr>\n",
       "  </tbody>\n",
       "</table>\n",
       "</div>"
      ],
      "text/plain": [
       "                                                Text                   label\n",
       "0  Urban Ladder Eisner Low Back Study-Office Comp...               Household\n",
       "1  Contrast living Wooden Decorative Box,Painted ...               Household\n",
       "2  IO Crest SY-PCI40010 PCI RAID Host Controller ...             Electronics\n",
       "3  ISAKAA Baby Socks from Just Born to 8 Years- P...  Clothing & Accessories\n",
       "4  Indira Designer Women's Art Mysore Silk Saree ...  Clothing & Accessories"
      ]
     },
     "execution_count": 3,
     "metadata": {},
     "output_type": "execute_result"
    }
   ],
   "source": [
    "df.head()"
   ]
  },
  {
   "cell_type": "code",
   "execution_count": 4,
   "id": "a5fc685f-437b-48ed-9189-d272637c200c",
   "metadata": {},
   "outputs": [
    {
     "data": {
      "text/plain": [
       "label\n",
       "Household                 6000\n",
       "Electronics               6000\n",
       "Clothing & Accessories    6000\n",
       "Books                     6000\n",
       "Name: count, dtype: int64"
      ]
     },
     "execution_count": 4,
     "metadata": {},
     "output_type": "execute_result"
    }
   ],
   "source": [
    "df.label.value_counts() #To Check Imbalance in Category/Label Wise Data"
   ]
  },
  {
   "cell_type": "code",
   "execution_count": 5,
   "id": "4e62ad41-188b-47ee-8444-f86d48110afb",
   "metadata": {},
   "outputs": [],
   "source": [
    "#Convert Label text to numbers:\n",
    "target = {\"Household\":0, \"Electronics\":1 , \"Clothing & Accessories\":2, \"Books\":3}\n",
    "\n",
    "df[\"label_num\"] = df.label.map(target)"
   ]
  },
  {
   "cell_type": "code",
   "execution_count": 6,
   "id": "e9d81a26-70ce-4647-819f-f3e3fb94461c",
   "metadata": {},
   "outputs": [
    {
     "data": {
      "text/html": [
       "<div>\n",
       "<style scoped>\n",
       "    .dataframe tbody tr th:only-of-type {\n",
       "        vertical-align: middle;\n",
       "    }\n",
       "\n",
       "    .dataframe tbody tr th {\n",
       "        vertical-align: top;\n",
       "    }\n",
       "\n",
       "    .dataframe thead th {\n",
       "        text-align: right;\n",
       "    }\n",
       "</style>\n",
       "<table border=\"1\" class=\"dataframe\">\n",
       "  <thead>\n",
       "    <tr style=\"text-align: right;\">\n",
       "      <th></th>\n",
       "      <th>Text</th>\n",
       "      <th>label</th>\n",
       "      <th>label_num</th>\n",
       "    </tr>\n",
       "  </thead>\n",
       "  <tbody>\n",
       "    <tr>\n",
       "      <th>0</th>\n",
       "      <td>Urban Ladder Eisner Low Back Study-Office Comp...</td>\n",
       "      <td>Household</td>\n",
       "      <td>0</td>\n",
       "    </tr>\n",
       "    <tr>\n",
       "      <th>1</th>\n",
       "      <td>Contrast living Wooden Decorative Box,Painted ...</td>\n",
       "      <td>Household</td>\n",
       "      <td>0</td>\n",
       "    </tr>\n",
       "    <tr>\n",
       "      <th>2</th>\n",
       "      <td>IO Crest SY-PCI40010 PCI RAID Host Controller ...</td>\n",
       "      <td>Electronics</td>\n",
       "      <td>1</td>\n",
       "    </tr>\n",
       "    <tr>\n",
       "      <th>3</th>\n",
       "      <td>ISAKAA Baby Socks from Just Born to 8 Years- P...</td>\n",
       "      <td>Clothing &amp; Accessories</td>\n",
       "      <td>2</td>\n",
       "    </tr>\n",
       "    <tr>\n",
       "      <th>4</th>\n",
       "      <td>Indira Designer Women's Art Mysore Silk Saree ...</td>\n",
       "      <td>Clothing &amp; Accessories</td>\n",
       "      <td>2</td>\n",
       "    </tr>\n",
       "  </tbody>\n",
       "</table>\n",
       "</div>"
      ],
      "text/plain": [
       "                                                Text                   label  \\\n",
       "0  Urban Ladder Eisner Low Back Study-Office Comp...               Household   \n",
       "1  Contrast living Wooden Decorative Box,Painted ...               Household   \n",
       "2  IO Crest SY-PCI40010 PCI RAID Host Controller ...             Electronics   \n",
       "3  ISAKAA Baby Socks from Just Born to 8 Years- P...  Clothing & Accessories   \n",
       "4  Indira Designer Women's Art Mysore Silk Saree ...  Clothing & Accessories   \n",
       "\n",
       "   label_num  \n",
       "0          0  \n",
       "1          0  \n",
       "2          1  \n",
       "3          2  \n",
       "4          2  "
      ]
     },
     "execution_count": 6,
     "metadata": {},
     "output_type": "execute_result"
    }
   ],
   "source": [
    "df.head()"
   ]
  },
  {
   "cell_type": "code",
   "execution_count": 8,
   "id": "47b0a1f2-285a-414f-a1c6-4f0e5dfd6ebc",
   "metadata": {},
   "outputs": [],
   "source": [
    "#Split Train Test DS:\n",
    "from sklearn.model_selection import train_test_split\n",
    "\n",
    "X_train,X_test,y_train,y_test = train_test_split(\n",
    "    df.Text, #Independent Variable\n",
    "    df.label_num, #Dependent Variable\n",
    "    test_size=0.2,\n",
    "    random_state=2022,\n",
    "    stratify=df.label_num\n",
    ")"
   ]
  },
  {
   "cell_type": "code",
   "execution_count": 10,
   "id": "0ea2d9b0-a0fb-4626-8726-374d92ce5ac6",
   "metadata": {},
   "outputs": [
    {
     "name": "stdout",
     "output_type": "stream",
     "text": [
      "(19200,)\n",
      "(4800,)\n"
     ]
    }
   ],
   "source": [
    "print(X_train.shape)\n",
    "print(X_test.shape)"
   ]
  },
  {
   "cell_type": "code",
   "execution_count": 11,
   "id": "e19ce569-f81c-402d-8583-78f325b4ed8c",
   "metadata": {},
   "outputs": [
    {
     "data": {
      "text/plain": [
       "label_num\n",
       "0    4800\n",
       "2    4800\n",
       "3    4800\n",
       "1    4800\n",
       "Name: count, dtype: int64"
      ]
     },
     "execution_count": 11,
     "metadata": {},
     "output_type": "execute_result"
    }
   ],
   "source": [
    "y_train.value_counts()"
   ]
  },
  {
   "cell_type": "code",
   "execution_count": 12,
   "id": "1f568300-9dd0-4acd-87e1-6f7ace918533",
   "metadata": {},
   "outputs": [
    {
     "data": {
      "text/plain": [
       "label_num\n",
       "0    1200\n",
       "2    1200\n",
       "3    1200\n",
       "1    1200\n",
       "Name: count, dtype: int64"
      ]
     },
     "execution_count": 12,
     "metadata": {},
     "output_type": "execute_result"
    }
   ],
   "source": [
    "y_test.value_counts()"
   ]
  },
  {
   "cell_type": "code",
   "execution_count": 19,
   "id": "dd0c7055-e181-46b7-96af-67368e47417c",
   "metadata": {},
   "outputs": [
    {
     "name": "stdout",
     "output_type": "stream",
     "text": [
      "              precision    recall  f1-score   support\n",
      "\n",
      "           0       0.95      0.96      0.95      1200\n",
      "           1       0.96      0.97      0.97      1200\n",
      "           2       0.97      0.98      0.98      1200\n",
      "           3       0.98      0.95      0.96      1200\n",
      "\n",
      "    accuracy                           0.97      4800\n",
      "   macro avg       0.97      0.97      0.97      4800\n",
      "weighted avg       0.97      0.97      0.97      4800\n",
      "\n"
     ]
    }
   ],
   "source": [
    "#Using KNN Classifier:\n",
    "from sklearn.neighbors import KNeighborsClassifier\n",
    "from sklearn.pipeline import Pipeline\n",
    "from sklearn.metrics import classification_report\n",
    "\n",
    "knn_classifier = Pipeline([\n",
    "    ('vectorizer_tf_idf',TfidfVectorizer()),\n",
    "    ('KNN_clf',KNeighborsClassifier())\n",
    "])\n",
    "\n",
    "#Train\n",
    "knn_classifier.fit(X_train,y_train)\n",
    "\n",
    "#Predict\n",
    "y_pred = knn_classifier.predict(X_test)\n",
    "\n",
    "#Performance Eval\n",
    "print(classification_report(y_test , y_pred))"
   ]
  },
  {
   "cell_type": "code",
   "execution_count": 25,
   "id": "d808d515-b464-47a9-be8c-9d10b792df87",
   "metadata": {},
   "outputs": [
    {
     "data": {
      "text/plain": [
       "20706    Lal Haveli Designer Handmade Patchwork Decorat...\n",
       "19008    tirupur fashion biz Girls and Kids Solid Cotto...\n",
       "14810    Modern Linguistics: An Introduction About The ...\n",
       "2451     AmazonBasics Apple Certified 30-Pin to USB Cab...\n",
       "6296     The Marine Corps Martial Arts Program: The Com...\n",
       "Name: Text, dtype: object"
      ]
     },
     "execution_count": 25,
     "metadata": {},
     "output_type": "execute_result"
    }
   ],
   "source": [
    "X_test[:5]"
   ]
  },
  {
   "cell_type": "markdown",
   "id": "18c65611-0f00-472e-ad68-6584fc25dace",
   "metadata": {},
   "source": [
    "##### \"Household\" : 0, \"Electronics\" : 1 , \"Clothing & Accessories\" : 2, \"Books\" : 3"
   ]
  },
  {
   "cell_type": "code",
   "execution_count": 22,
   "id": "5c4ada03-d6c2-4527-8857-0bddabb7a557",
   "metadata": {},
   "outputs": [
    {
     "data": {
      "text/plain": [
       "20706    0\n",
       "19008    2\n",
       "14810    3\n",
       "2451     1\n",
       "6296     3\n",
       "Name: label_num, dtype: int64"
      ]
     },
     "execution_count": 22,
     "metadata": {},
     "output_type": "execute_result"
    }
   ],
   "source": [
    "y_test[:5]"
   ]
  },
  {
   "cell_type": "code",
   "execution_count": 23,
   "id": "b44b6bc1-821e-4ed8-a50f-858bb9d0790b",
   "metadata": {},
   "outputs": [
    {
     "data": {
      "text/plain": [
       "array([0, 2, 3, 1, 3], dtype=int64)"
      ]
     },
     "execution_count": 23,
     "metadata": {},
     "output_type": "execute_result"
    }
   ],
   "source": [
    "y_pred[:5]"
   ]
  },
  {
   "cell_type": "code",
   "execution_count": 26,
   "id": "8817d7d0-6ab2-4300-87de-b54346d77e41",
   "metadata": {},
   "outputs": [
    {
     "name": "stdout",
     "output_type": "stream",
     "text": [
      "              precision    recall  f1-score   support\n",
      "\n",
      "           0       0.93      0.96      0.95      1200\n",
      "           1       0.96      0.96      0.96      1200\n",
      "           2       0.97      0.98      0.98      1200\n",
      "           3       0.98      0.93      0.95      1200\n",
      "\n",
      "    accuracy                           0.96      4800\n",
      "   macro avg       0.96      0.96      0.96      4800\n",
      "weighted avg       0.96      0.96      0.96      4800\n",
      "\n"
     ]
    }
   ],
   "source": [
    "#Using NaiveBayes Classifier\n",
    "from sklearn.naive_bayes import MultinomialNB\n",
    "\n",
    "nb_classifier = Pipeline([\n",
    "    ('vectorizer_tf_idf',TfidfVectorizer()),\n",
    "    ('MNB_clf',MultinomialNB())\n",
    "])\n",
    "\n",
    "#Train\n",
    "nb_classifier.fit(X_train,y_train)\n",
    "\n",
    "#Predict\n",
    "y_pred = nb_classifier.predict(X_test)\n",
    "\n",
    "#Performance Eval\n",
    "print(classification_report(y_test , y_pred))"
   ]
  },
  {
   "cell_type": "code",
   "execution_count": 27,
   "id": "16c8775b-43d1-4bff-8390-fb7dfe412234",
   "metadata": {},
   "outputs": [
    {
     "name": "stdout",
     "output_type": "stream",
     "text": [
      "              precision    recall  f1-score   support\n",
      "\n",
      "           0       0.96      0.96      0.96      1200\n",
      "           1       0.97      0.97      0.97      1200\n",
      "           2       0.98      0.99      0.98      1200\n",
      "           3       0.98      0.97      0.97      1200\n",
      "\n",
      "    accuracy                           0.97      4800\n",
      "   macro avg       0.97      0.97      0.97      4800\n",
      "weighted avg       0.97      0.97      0.97      4800\n",
      "\n"
     ]
    }
   ],
   "source": [
    "#Using Random Forest Classifier: (The Best)\n",
    "from sklearn.ensemble import RandomForestClassifier\n",
    "\n",
    "rf_classifier = Pipeline([\n",
    "    ('vectorizer_tf_idf',TfidfVectorizer()),\n",
    "    ('RF_clf',RandomForestClassifier())\n",
    "])\n",
    "\n",
    "#Train\n",
    "rf_classifier.fit(X_train,y_train)\n",
    "\n",
    "#Predict\n",
    "y_pred = rf_classifier.predict(X_test)\n",
    "\n",
    "#Performance Eval\n",
    "print(classification_report(y_test , y_pred))"
   ]
  },
  {
   "cell_type": "code",
   "execution_count": null,
   "id": "4eec64e1-15fe-4348-900a-930f82e80f98",
   "metadata": {},
   "outputs": [],
   "source": []
  }
 ],
 "metadata": {
  "kernelspec": {
   "display_name": "Python 3 (ipykernel)",
   "language": "python",
   "name": "python3"
  },
  "language_info": {
   "codemirror_mode": {
    "name": "ipython",
    "version": 3
   },
   "file_extension": ".py",
   "mimetype": "text/x-python",
   "name": "python",
   "nbconvert_exporter": "python",
   "pygments_lexer": "ipython3",
   "version": "3.12.1"
  }
 },
 "nbformat": 4,
 "nbformat_minor": 5
}
