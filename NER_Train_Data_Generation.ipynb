{
 "cells": [
  {
   "cell_type": "code",
   "execution_count": 1,
   "id": "f047095b-4309-4f3c-8171-371f56044640",
   "metadata": {},
   "outputs": [
    {
     "name": "stdout",
     "output_type": "stream",
     "text": [
      "[('Can you track my order using phone 9327693133?', {'entities': [(35, 45, 'PHONE')]}), ('I ordered a Tandoori Paneer Pizza, when will it arrive?', {'entities': [(12, 33, 'FOOD')]}), (\"I'd like to have a Chicken Biryani.\", {'entities': [(19, 34, 'FOOD')]}), ('Can you track my order using phone 6703199938?', {'entities': [(35, 45, 'PHONE')]}), ('Can I get a Chicken Biryani?', {'entities': [(12, 27, 'FOOD')]}), ('Check the status of my order 21841.', {'entities': [(29, 34, 'ORDER_ID')]}), ('Cancel my order with ID 58140.', {'entities': [(24, 29, 'ORDER_ID')]}), ('Track order 90705.', {'entities': [(12, 17, 'ORDER_ID')]}), ('Order a Chocolate Shake and a coke.', {'entities': [(8, 23, 'FOOD')]}), ('I ordered a Cheeseburger, when will it arrive?', {'entities': [(12, 24, 'FOOD')]}), ('Can I get a Chicken Wings?', {'entities': [(12, 25, 'FOOD')]}), (\"I'd like to have a Tandoori Paneer Pizza.\", {'entities': [(19, 40, 'FOOD')]}), ('Check the status of my order 90705.', {'entities': [(29, 34, 'ORDER_ID')]}), ('When will my Cheeseburger be delivered?', {'entities': [(13, 25, 'FOOD')]}), ('Where is my order with ID 75833?', {'entities': [(26, 31, 'ORDER_ID')]}), ('Order a Tandoori Paneer Pizza and a coke.', {'entities': [(8, 29, 'FOOD')]}), ('Change my order to a Chicken Wings.', {'entities': [(21, 34, 'FOOD')]}), ('Can you track my order using phone 6059416655?', {'entities': [(35, 45, 'PHONE')]}), ('Track order 75833.', {'entities': [(12, 17, 'ORDER_ID')]}), ('Track order 72639.', {'entities': [(12, 17, 'ORDER_ID')]}), ('What is the status of my order ID 78827?', {'entities': [(34, 39, 'ORDER_ID')]}), ('Change my order to a Pepperoni Pizza.', {'entities': [(21, 36, 'FOOD')]}), (\"I'd like to have a Veggie Burger.\", {'entities': [(19, 32, 'FOOD')]}), (\"I'd like to have a Chocolate Shake.\", {'entities': [(19, 34, 'FOOD')]}), ('I want to order a Tandoori Paneer Pizza.', {'entities': [(18, 39, 'FOOD')]}), ('Modify my order 27573 to include Large Fries.', {'entities': [(33, 44, 'FOOD'), (16, 21, 'ORDER_ID')]}), ('Check the status of my order 99517.', {'entities': [(29, 34, 'ORDER_ID')]}), ('Can I get a Grilled Sandwich?', {'entities': [(12, 28, 'FOOD')]}), ('My phone number is 8529834557, check my order status.', {'entities': [(19, 29, 'PHONE')]}), ('Order a Chocolate Shake and a coke.', {'entities': [(8, 23, 'FOOD')]}), ('I want to order a Pepperoni Pizza.', {'entities': [(18, 33, 'FOOD')]}), ('Where is my order with ID 51769?', {'entities': [(26, 31, 'ORDER_ID')]}), (\"I'd like to have a Large Fries.\", {'entities': [(19, 30, 'FOOD')]}), ('Cancel my order with ID 72639.', {'entities': [(24, 29, 'ORDER_ID')]}), ('I want to order a Tandoori Paneer Pizza.', {'entities': [(18, 39, 'FOOD')]}), ('I want to order a Cheeseburger.', {'entities': [(18, 30, 'FOOD')]}), ('My phone number is 7344185266, check my order status.', {'entities': [(19, 29, 'PHONE')]}), ('Check the status of my order 78827.', {'entities': [(29, 34, 'ORDER_ID')]}), ('Modify my order 27573 to include Large Fries.', {'entities': [(33, 44, 'FOOD'), (16, 21, 'ORDER_ID')]}), ('Order a Veggie Burger and a coke.', {'entities': [(8, 21, 'FOOD')]}), ('What is the status of my order ID 96604?', {'entities': [(34, 39, 'ORDER_ID')]}), ('I want to order a Chicken Biryani.', {'entities': [(18, 33, 'FOOD')]}), (\"I'd like to have a Pepperoni Pizza.\", {'entities': [(19, 34, 'FOOD')]}), ('Where is my order with ID 45470?', {'entities': [(26, 31, 'ORDER_ID')]}), ('Where is my order with ID 46576?', {'entities': [(26, 31, 'ORDER_ID')]}), ('Track order 45470.', {'entities': [(12, 17, 'ORDER_ID')]}), ('Track order 42152.', {'entities': [(12, 17, 'ORDER_ID')]}), ('Order a Pepperoni Pizza and a coke.', {'entities': [(8, 23, 'FOOD')]}), ('Track order 78827.', {'entities': [(12, 17, 'ORDER_ID')]}), ('I want to order a Chocolate Shake.', {'entities': [(18, 33, 'FOOD')]}), ('When will my Grilled Sandwich be delivered?', {'entities': [(13, 29, 'FOOD')]}), ('Can I get a Chicken Wings?', {'entities': [(12, 25, 'FOOD')]}), ('What is the status of my order ID 42152?', {'entities': [(34, 39, 'ORDER_ID')]}), ('Can you track my order using phone 8288467507?', {'entities': [(35, 45, 'PHONE')]}), ('Can you track my order using phone 9017526568?', {'entities': [(35, 45, 'PHONE')]}), ('Where is my order with ID 48080?', {'entities': [(26, 31, 'ORDER_ID')]}), ('I want to order a Large Fries.', {'entities': [(18, 29, 'FOOD')]}), ('Cancel my order with ID 42152.', {'entities': [(24, 29, 'ORDER_ID')]}), ('Modify my order 99517 to include Spaghetti.', {'entities': [(33, 42, 'FOOD'), (16, 21, 'ORDER_ID')]}), ('Check the status of my order 75833.', {'entities': [(29, 34, 'ORDER_ID')]}), ('Where is my order with ID 56563?', {'entities': [(26, 31, 'ORDER_ID')]}), ('Track order 64024.', {'entities': [(12, 17, 'ORDER_ID')]}), (\"I'd like to have a Chocolate Shake.\", {'entities': [(19, 34, 'FOOD')]}), (\"I'd like to have a Grilled Sandwich.\", {'entities': [(19, 35, 'FOOD')]}), ('When will my Spaghetti be delivered?', {'entities': [(13, 22, 'FOOD')]}), (\"I'd like to have a Cheeseburger.\", {'entities': [(19, 31, 'FOOD')]}), ('Order a Veggie Burger and a coke.', {'entities': [(8, 21, 'FOOD')]}), ('Change my order to a Tandoori Paneer Pizza.', {'entities': [(21, 42, 'FOOD')]}), ('Change my order to a Grilled Sandwich.', {'entities': [(21, 37, 'FOOD')]}), ('What is the status of my order ID 18034?', {'entities': [(34, 39, 'ORDER_ID')]}), ('Track order 58140.', {'entities': [(12, 17, 'ORDER_ID')]}), ('Where is my order with ID 10167?', {'entities': [(26, 31, 'ORDER_ID')]}), ('Check the status of my order 18034.', {'entities': [(29, 34, 'ORDER_ID')]}), ('What is the status of my order ID 64024?', {'entities': [(34, 39, 'ORDER_ID')]}), ('Where is my order with ID 27573?', {'entities': [(26, 31, 'ORDER_ID')]}), (\"I'd like to have a Tandoori Paneer Pizza.\", {'entities': [(19, 40, 'FOOD')]}), ('I ordered a Spaghetti, when will it arrive?', {'entities': [(12, 21, 'FOOD')]}), ('My phone number is 7443165902, check my order status.', {'entities': [(19, 29, 'PHONE')]}), ('I ordered a Grilled Sandwich, when will it arrive?', {'entities': [(12, 28, 'FOOD')]}), ('Cancel my order with ID 27573.', {'entities': [(24, 29, 'ORDER_ID')]}), ('Check the status of my order 64024.', {'entities': [(29, 34, 'ORDER_ID')]}), ('Modify my order 51769 to include Veggie Burger.', {'entities': [(33, 46, 'FOOD'), (16, 21, 'ORDER_ID')]}), ('I want to order a Pepperoni Pizza.', {'entities': [(18, 33, 'FOOD')]}), ('I ordered a Chicken Wings, when will it arrive?', {'entities': [(12, 25, 'FOOD')]}), ('Track order 70234.', {'entities': [(12, 17, 'ORDER_ID')]}), ('Track order 48080.', {'entities': [(12, 17, 'ORDER_ID')]}), ('Change my order to a Grilled Sandwich.', {'entities': [(21, 37, 'FOOD')]}), ('I want to order a Grilled Sandwich.', {'entities': [(18, 34, 'FOOD')]}), ('Where is my order with ID 70234?', {'entities': [(26, 31, 'ORDER_ID')]}), ('My phone number is 7263345243, check my order status.', {'entities': [(19, 29, 'PHONE')]}), ('Cancel my order with ID 19464.', {'entities': [(24, 29, 'ORDER_ID')]}), ('I ordered a Large Fries, when will it arrive?', {'entities': [(12, 23, 'FOOD')]}), ('Modify my order 99517 to include Chocolate Shake.', {'entities': [(33, 48, 'FOOD'), (16, 21, 'ORDER_ID')]}), ('Order a Grilled Sandwich and a coke.', {'entities': [(8, 24, 'FOOD')]}), ('Track order 86849.', {'entities': [(12, 17, 'ORDER_ID')]}), (\"I'd like to have a Pepperoni Pizza.\", {'entities': [(19, 34, 'FOOD')]}), ('Modify my order 58140 to include Chicken Biryani.', {'entities': [(33, 48, 'FOOD'), (16, 21, 'ORDER_ID')]}), ('Track order 27573.', {'entities': [(12, 17, 'ORDER_ID')]}), ('My phone number is 7006345507, check my order status.', {'entities': [(19, 29, 'PHONE')]}), ('Can you track my order using phone 8288467507?', {'entities': [(35, 45, 'PHONE')]})]\n"
     ]
    }
   ],
   "source": [
    "import random\n",
    "\n",
    "train_data = []\n",
    "sample_food_items = [\"Cheeseburger\", \"Pepperoni Pizza\", \"Large Fries\", \"Veggie Burger\", \"Chicken Wings\", \"Chocolate Shake\",\n",
    "                     \"Grilled Sandwich\", \"Tandoori Paneer Pizza\", \"Spaghetti\", \"Chicken Biryani\"]\n",
    "sample_order_ids = [str(random.randint(10000, 99999)) for _ in range(30)]\n",
    "sample_phone_numbers = [str(random.randint(6000000000, 9999999999)) for _ in range(30)]\n",
    "\n",
    "sample_queries = [\n",
    "    \"I want to order a {food}.\",\n",
    "    \"Can I get a {food}?\",\n",
    "    \"Order a {food} and a coke.\",\n",
    "    \"I'd like to have a {food}.\",\n",
    "    \"Where is my order with ID {order_id}?\",\n",
    "    \"Track order {order_id}.\",\n",
    "    \"Check the status of my order {order_id}.\",\n",
    "    \"My phone number is {phone}, check my order status.\",\n",
    "    \"When will my {food} be delivered?\",\n",
    "    \"I ordered a {food}, when will it arrive?\",\n",
    "    \"What is the status of my order ID {order_id}?\",\n",
    "    \"Can you track my order using phone {phone}?\",\n",
    "    \"Modify my order {order_id} to include {food}.\",\n",
    "    \"Change my order to a {food}.\",\n",
    "    \"Cancel my order with ID {order_id}.\",\n",
    "]\n",
    "\n",
    "for _ in range(100):\n",
    "    template = random.choice(sample_queries)\n",
    "    food = random.choice(sample_food_items)\n",
    "    order_id = random.choice(sample_order_ids)\n",
    "    phone = random.choice(sample_phone_numbers)\n",
    "\n",
    "    text = template.format(food=food, order_id=order_id, phone=phone)\n",
    "\n",
    "    entities = []\n",
    "    if \"{food}\" in template:\n",
    "        start = text.index(food)\n",
    "        entities.append((start, start + len(food), \"FOOD\"))\n",
    "    if \"{order_id}\" in template:\n",
    "        start = text.index(order_id)\n",
    "        entities.append((start, start + len(order_id), \"ORDER_ID\"))\n",
    "    if \"{phone}\" in template:\n",
    "        start = text.index(phone)\n",
    "        entities.append((start, start + len(phone), \"PHONE\"))\n",
    "\n",
    "    train_data.append((text, {\"entities\": entities}))\n",
    "\n",
    "print(train_data)  # Print or save to a file\n"
   ]
  },
  {
   "cell_type": "code",
   "execution_count": null,
   "id": "2e17579f-0f1c-496e-8245-1c56b75f5763",
   "metadata": {},
   "outputs": [],
   "source": []
  }
 ],
 "metadata": {
  "kernelspec": {
   "display_name": "Python 3 (ipykernel)",
   "language": "python",
   "name": "python3"
  },
  "language_info": {
   "codemirror_mode": {
    "name": "ipython",
    "version": 3
   },
   "file_extension": ".py",
   "mimetype": "text/x-python",
   "name": "python",
   "nbconvert_exporter": "python",
   "pygments_lexer": "ipython3",
   "version": "3.12.1"
  }
 },
 "nbformat": 4,
 "nbformat_minor": 5
}
