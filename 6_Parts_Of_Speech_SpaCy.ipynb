{
 "cells": [
  {
   "cell_type": "code",
   "execution_count": 1,
   "id": "3b31e7fb-4cb5-4477-bc94-f79d8f22a76a",
   "metadata": {},
   "outputs": [],
   "source": [
    "import spacy"
   ]
  },
  {
   "cell_type": "code",
   "execution_count": 3,
   "id": "d3f978a7-2bca-4e72-9f95-a0b8efcdb520",
   "metadata": {},
   "outputs": [],
   "source": [
    "nlp = spacy.load(\"en_core_web_sm\")"
   ]
  },
  {
   "cell_type": "code",
   "execution_count": 7,
   "id": "e171f81a-707c-4f1a-9234-d7f960904d13",
   "metadata": {},
   "outputs": [
    {
     "name": "stdout",
     "output_type": "stream",
     "text": [
      "Elon  |  PROPN  |  proper noun\n",
      "flew  |  VERB  |  verb\n",
      "to  |  ADP  |  adposition\n",
      "Mars  |  PROPN  |  proper noun\n",
      "yesterday  |  NOUN  |  noun\n",
      ".  |  PUNCT  |  punctuation\n",
      "He  |  PRON  |  pronoun\n",
      "carried  |  VERB  |  verb\n",
      "Biryani  |  PROPN  |  proper noun\n",
      "Masala  |  PROPN  |  proper noun\n",
      "with  |  ADP  |  adposition\n",
      "him  |  PRON  |  pronoun\n",
      ".  |  PUNCT  |  punctuation\n"
     ]
    }
   ],
   "source": [
    "doc = nlp(\"Elon flew to Mars yesterday. He carried Biryani Masala with him.\")\n",
    "\n",
    "for token in doc:\n",
    "    print(token,\" | \",token.pos_,\" | \",spacy.explain(token.pos_))"
   ]
  },
  {
   "cell_type": "code",
   "execution_count": 11,
   "id": "f92ecc61-1cef-44d5-ae65-34f40fb9ad35",
   "metadata": {},
   "outputs": [
    {
     "name": "stdout",
     "output_type": "stream",
     "text": [
      "Wow  |  INTJ  |  interjection  |  UH  |  interjection\n",
      "!  |  PUNCT  |  punctuation  |  .  |  punctuation mark, sentence closer\n",
      "Dr.  |  PROPN  |  proper noun  |  NNP  |  noun, proper singular\n",
      "Strange  |  PROPN  |  proper noun  |  NNP  |  noun, proper singular\n",
      "made  |  VERB  |  verb  |  VBD  |  verb, past tense\n",
      "265  |  NUM  |  numeral  |  CD  |  cardinal number\n",
      "million  |  NUM  |  numeral  |  CD  |  cardinal number\n",
      "$  |  NUM  |  numeral  |  CD  |  cardinal number\n",
      "on  |  ADP  |  adposition  |  IN  |  conjunction, subordinating or preposition\n",
      "the  |  DET  |  determiner  |  DT  |  determiner\n",
      "very  |  ADV  |  adverb  |  RB  |  adverb\n",
      "first  |  ADJ  |  adjective  |  JJ  |  adjective (English), other noun-modifier (Chinese)\n",
      "day  |  NOUN  |  noun  |  NN  |  noun, singular or mass\n",
      ".  |  PUNCT  |  punctuation  |  .  |  punctuation mark, sentence closer\n"
     ]
    }
   ],
   "source": [
    "doc2 = nlp(\"Wow! Dr. Strange made 265 million $ on the very first day.\")\n",
    "\n",
    "for token in doc2:\n",
    "    # token | Part Of Speech | Explanation(POS) | Tag (Past, present tense and other additional info etc.) | Explanation(Tag)\n",
    "    print(token,\" | \",token.pos_,\" | \",spacy.explain(token.pos_),\" | \",token.tag_,\" | \",spacy.explain(token.tag_))"
   ]
  },
  {
   "cell_type": "code",
   "execution_count": 12,
   "id": "23b88135-cc3e-4afd-9fc6-bace2b4336c8",
   "metadata": {},
   "outputs": [],
   "source": [
    "earings_text = '''Microsoft Corp. today announced the following results for the quarter ended March 31, 2024, as compared to the corresponding period of last fiscal year:\n",
    "\n",
    "·        Revenue was $61.9 billion and increased 17%\n",
    "\n",
    "·        Operating income was $27.6 billion and increased 23%\n",
    "\n",
    "·        Net income was $21.9 billion and increased 20%\n",
    "\n",
    "·        Diluted earnings per share was $2.94 and increased 20%\n",
    "\n",
    "“Microsoft Copilot and Copilot stack are orchestrating a new era of AI transformation, driving better business outcomes across every role and industry,\" said Satya Nadella, chairman and chief executive officer of Microsoft.\n",
    "\n",
    "“This quarter Microsoft Cloud revenue was $35.1 billion, up 23% year-over-year, driven by strong execution by our sales teams and partners,” said Amy Hood, executive vice president and chief financial officer of Microsoft.\n",
    "'''"
   ]
  },
  {
   "cell_type": "code",
   "execution_count": 15,
   "id": "0313d98f-c8ed-4d56-94eb-f2cf8979f72f",
   "metadata": {},
   "outputs": [],
   "source": [
    "docEarningReport = nlp(earings_text)"
   ]
  },
  {
   "cell_type": "code",
   "execution_count": 22,
   "id": "df0270e3-a531-4953-840a-3b59a3f262ee",
   "metadata": {},
   "outputs": [],
   "source": [
    "# Filtering the text to remove the unnecessary elements:\n",
    "filtered_tokens = []\n",
    "for token in docEarningReport:\n",
    "    if token.pos_ not in [\"SPACE\",\"X\",\"PUNCT\"]:\n",
    "        filtered_tokens.append(token.text)"
   ]
  },
  {
   "cell_type": "code",
   "execution_count": 23,
   "id": "10b6ca54-c72a-42ba-b1a6-b3487e372a22",
   "metadata": {},
   "outputs": [
    {
     "data": {
      "text/plain": [
       "['Microsoft',\n",
       " 'Corp.',\n",
       " 'today',\n",
       " 'announced',\n",
       " 'the',\n",
       " 'following',\n",
       " 'results',\n",
       " 'for',\n",
       " 'the',\n",
       " 'quarter',\n",
       " 'ended',\n",
       " 'March',\n",
       " '31',\n",
       " '2024',\n",
       " 'as',\n",
       " 'compared',\n",
       " 'to',\n",
       " 'the',\n",
       " 'corresponding',\n",
       " 'period']"
      ]
     },
     "execution_count": 23,
     "metadata": {},
     "output_type": "execute_result"
    }
   ],
   "source": [
    "filtered_tokens[:20]"
   ]
  },
  {
   "cell_type": "code",
   "execution_count": 29,
   "id": "e4678078-cd09-4689-b47a-453b0b13f26c",
   "metadata": {},
   "outputs": [
    {
     "data": {
      "text/plain": [
       "{96: 14,\n",
       " 92: 36,\n",
       " 100: 15,\n",
       " 90: 6,\n",
       " 85: 11,\n",
       " 93: 16,\n",
       " 97: 22,\n",
       " 98: 1,\n",
       " 84: 12,\n",
       " 103: 11,\n",
       " 87: 6,\n",
       " 99: 5,\n",
       " 89: 9,\n",
       " 86: 1,\n",
       " 95: 1}"
      ]
     },
     "execution_count": 29,
     "metadata": {},
     "output_type": "execute_result"
    }
   ],
   "source": [
    "# Calculating quantity of a specific part of speech in text:\n",
    "count = docEarningReport.count_by(spacy.attrs.POS)\n",
    "count"
   ]
  },
  {
   "cell_type": "code",
   "execution_count": 30,
   "id": "b1b51fe3-c80a-4b17-b0d7-dec126c5d46d",
   "metadata": {},
   "outputs": [
    {
     "name": "stdout",
     "output_type": "stream",
     "text": [
      "PROPN  |  14\n",
      "NOUN  |  36\n",
      "VERB  |  15\n",
      "DET  |  6\n",
      "ADP  |  11\n",
      "NUM  |  16\n",
      "PUNCT  |  22\n",
      "SCONJ  |  1\n",
      "ADJ  |  12\n",
      "SPACE  |  11\n",
      "AUX  |  6\n",
      "SYM  |  5\n",
      "CCONJ  |  9\n",
      "ADV  |  1\n",
      "PRON  |  1\n"
     ]
    }
   ],
   "source": [
    "for key,val in count.items():\n",
    "    print(docEarningReport.vocab[key].text,\" | \" ,val)"
   ]
  }
 ],
 "metadata": {
  "kernelspec": {
   "display_name": "Python 3 (ipykernel)",
   "language": "python",
   "name": "python3"
  },
  "language_info": {
   "codemirror_mode": {
    "name": "ipython",
    "version": 3
   },
   "file_extension": ".py",
   "mimetype": "text/x-python",
   "name": "python",
   "nbconvert_exporter": "python",
   "pygments_lexer": "ipython3",
   "version": "3.12.1"
  }
 },
 "nbformat": 4,
 "nbformat_minor": 5
}
