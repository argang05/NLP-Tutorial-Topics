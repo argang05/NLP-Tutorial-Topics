{
 "cells": [
  {
   "cell_type": "code",
   "execution_count": 1,
   "id": "7bc3dc8e-ffd1-4cc3-8da4-a35344040497",
   "metadata": {},
   "outputs": [],
   "source": [
    "import spacy"
   ]
  },
  {
   "cell_type": "code",
   "execution_count": 32,
   "id": "334ac550-dbb1-452f-9d92-eb8ca175b7b7",
   "metadata": {},
   "outputs": [
    {
     "name": "stdout",
     "output_type": "stream",
     "text": [
      "Dr._Strange_loves_pav_bhaji_of_mumbai_as_it_costs_only_$_2_per_plate_._"
     ]
    }
   ],
   "source": [
    "nlp = spacy.blank(\"en\")\n",
    "\n",
    "doc = nlp(\"Dr. Strange loves pav bhaji of mumbai as it costs only $2 per plate.\")\n",
    "\n",
    "for token in doc:\n",
    "    print(token,end=\"_\")\n",
    "span = doc[1:5]\n"
   ]
  },
  {
   "cell_type": "code",
   "execution_count": 17,
   "id": "afb0cc50-93b6-495f-8da0-8f7ed3e7eb5a",
   "metadata": {},
   "outputs": [
    {
     "name": "stdout",
     "output_type": "stream",
     "text": [
      "\"_Let_'s_go_to_N.Y._!_\"_"
     ]
    },
    {
     "data": {
      "text/plain": [
       "Let's"
      ]
     },
     "execution_count": 17,
     "metadata": {},
     "output_type": "execute_result"
    }
   ],
   "source": [
    "doc = nlp('''\"Let's go to N.Y.!\"''')\n",
    "\n",
    "for token in doc:\n",
    "    print(token,end=\"_\")\n",
    "doc[1:3]"
   ]
  },
  {
   "cell_type": "code",
   "execution_count": 11,
   "id": "81764189-f081-4b1a-8db2-e63a65c01507",
   "metadata": {},
   "outputs": [
    {
     "data": {
      "text/plain": [
       "spacy.lang.en.English"
      ]
     },
     "execution_count": 11,
     "metadata": {},
     "output_type": "execute_result"
    }
   ],
   "source": [
    "type(nlp)"
   ]
  },
  {
   "cell_type": "code",
   "execution_count": 13,
   "id": "49451a1f-cda4-4aa4-902f-2f388d6c5746",
   "metadata": {},
   "outputs": [
    {
     "data": {
      "text/plain": [
       "spacy.tokens.token.Token"
      ]
     },
     "execution_count": 13,
     "metadata": {},
     "output_type": "execute_result"
    }
   ],
   "source": [
    "type(doc) ; type(token)"
   ]
  },
  {
   "cell_type": "code",
   "execution_count": 34,
   "id": "40cf86a6-0650-4804-9d3f-938a1c1127e0",
   "metadata": {},
   "outputs": [],
   "source": [
    "doc = nlp(\"Tony gave two $ to Peter.\")"
   ]
  },
  {
   "cell_type": "code",
   "execution_count": 19,
   "id": "2aac9d49-14c1-435e-b3d7-9053b5148e16",
   "metadata": {},
   "outputs": [
    {
     "data": {
      "text/plain": [
       "Tony"
      ]
     },
     "execution_count": 19,
     "metadata": {},
     "output_type": "execute_result"
    }
   ],
   "source": [
    "token0 = doc[0]\n",
    "token0"
   ]
  },
  {
   "cell_type": "code",
   "execution_count": 23,
   "id": "4a17fff1-6c97-4087-98df-464ce7b15289",
   "metadata": {},
   "outputs": [
    {
     "data": {
      "text/plain": [
       "False"
      ]
     },
     "execution_count": 23,
     "metadata": {},
     "output_type": "execute_result"
    }
   ],
   "source": [
    "# dir(token0)\n",
    "\n",
    "token0.is_alpha\n",
    "token0.like_num"
   ]
  },
  {
   "cell_type": "code",
   "execution_count": 27,
   "id": "5722011b-99f2-4ce7-9c7b-51f87ffc7943",
   "metadata": {},
   "outputs": [
    {
     "data": {
      "text/plain": [
       "'two'"
      ]
     },
     "execution_count": 27,
     "metadata": {},
     "output_type": "execute_result"
    }
   ],
   "source": [
    "token2 = doc[2]\n",
    "token2.text"
   ]
  },
  {
   "cell_type": "code",
   "execution_count": 28,
   "id": "3fd13853-c25b-4549-b774-17e54ea57de5",
   "metadata": {},
   "outputs": [
    {
     "data": {
      "text/plain": [
       "True"
      ]
     },
     "execution_count": 28,
     "metadata": {},
     "output_type": "execute_result"
    }
   ],
   "source": [
    "token2.like_num"
   ]
  },
  {
   "cell_type": "code",
   "execution_count": 29,
   "id": "9866c6e9-b1e5-4ff9-b3d3-bdb1633cf42d",
   "metadata": {},
   "outputs": [
    {
     "data": {
      "text/plain": [
       "'$'"
      ]
     },
     "execution_count": 29,
     "metadata": {},
     "output_type": "execute_result"
    }
   ],
   "source": [
    "token3 = doc[3]\n",
    "token3.text"
   ]
  },
  {
   "cell_type": "code",
   "execution_count": 30,
   "id": "da9561e3-4188-47a4-81f8-d6b591385f49",
   "metadata": {},
   "outputs": [
    {
     "data": {
      "text/plain": [
       "True"
      ]
     },
     "execution_count": 30,
     "metadata": {},
     "output_type": "execute_result"
    }
   ],
   "source": [
    "token3.is_currency"
   ]
  },
  {
   "cell_type": "code",
   "execution_count": 35,
   "id": "b0890046-4746-4960-a0ee-cda65774289e",
   "metadata": {},
   "outputs": [
    {
     "name": "stdout",
     "output_type": "stream",
     "text": [
      "Tony  ===>   index:  0  is_alpha:  True  is_punct:  False  like_num:  False  is_currency:  False\n",
      "gave  ===>   index:  1  is_alpha:  True  is_punct:  False  like_num:  False  is_currency:  False\n",
      "two  ===>   index:  2  is_alpha:  True  is_punct:  False  like_num:  True  is_currency:  False\n",
      "$  ===>   index:  3  is_alpha:  False  is_punct:  False  like_num:  False  is_currency:  True\n",
      "to  ===>   index:  4  is_alpha:  True  is_punct:  False  like_num:  False  is_currency:  False\n",
      "Peter  ===>   index:  5  is_alpha:  True  is_punct:  False  like_num:  False  is_currency:  False\n",
      ".  ===>   index:  6  is_alpha:  False  is_punct:  True  like_num:  False  is_currency:  False\n"
     ]
    }
   ],
   "source": [
    "for token in doc:\n",
    "    print(\n",
    "        token,\" ===> \", \" index: \",token.i,\n",
    "        \" is_alpha: \",token.is_alpha,\n",
    "        \" is_punct: \", token.is_punct,\n",
    "        \" like_num: \",token.like_num,\n",
    "        \" is_currency: \",token.is_currency,\n",
    "    )"
   ]
  },
  {
   "cell_type": "code",
   "execution_count": 39,
   "id": "6f976d8a-47bc-47e7-bc2d-9424483b17e0",
   "metadata": {},
   "outputs": [
    {
     "data": {
      "text/plain": [
       "['Dayton high school, 8th grade students information\\n',\n",
       " '==================================================\\n',\n",
       " '\\n',\n",
       " 'Name\\tbirth day   \\temail\\n',\n",
       " '-----\\t------------\\t------\\n',\n",
       " 'Virat   5 June, 1882    virat@kohli.com\\n',\n",
       " 'Maria\\t12 April, 2001  maria@sharapova.com\\n',\n",
       " 'Serena  24 June, 1998   serena@williams.com \\n',\n",
       " 'Joe      1 May, 1997    joe@root.com\\n',\n",
       " '\\n',\n",
       " '\\n',\n",
       " '\\n']"
      ]
     },
     "execution_count": 39,
     "metadata": {},
     "output_type": "execute_result"
    }
   ],
   "source": [
    "# Extracting the emailIds from students.txt file using SpaCy:\n",
    "\n",
    "with open(\"students.txt\") as studentsDataFile:\n",
    "    text = studentsDataFile.readlines()\n",
    "text #text in form of list"
   ]
  },
  {
   "cell_type": "code",
   "execution_count": 38,
   "id": "d43db914-28bd-41a6-b727-ed332831f7e2",
   "metadata": {},
   "outputs": [
    {
     "data": {
      "text/plain": [
       "'Dayton high school, 8th grade students information\\n ==================================================\\n \\n Name\\tbirth day   \\temail\\n -----\\t------------\\t------\\n Virat   5 June, 1882    virat@kohli.com\\n Maria\\t12 April, 2001  maria@sharapova.com\\n Serena  24 June, 1998   serena@williams.com \\n Joe      1 May, 1997    joe@root.com\\n \\n \\n \\n'"
      ]
     },
     "execution_count": 38,
     "metadata": {},
     "output_type": "execute_result"
    }
   ],
   "source": [
    "#Converting the text into a single unit\n",
    "textSU = ' '.join(text)\n",
    "\n",
    "textSU"
   ]
  },
  {
   "cell_type": "code",
   "execution_count": 42,
   "id": "05f4efc8-4a0c-443e-8e6d-889f22e9536e",
   "metadata": {},
   "outputs": [
    {
     "data": {
      "text/plain": [
       "['virat@kohli.com',\n",
       " 'maria@sharapova.com',\n",
       " 'serena@williams.com',\n",
       " 'joe@root.com']"
      ]
     },
     "execution_count": 42,
     "metadata": {},
     "output_type": "execute_result"
    }
   ],
   "source": [
    "#Extracting emailIds using SpaCy:\n",
    "doc = nlp(textSU)\n",
    "emailIds = []\n",
    "for token in doc:\n",
    "    if(token.like_email):\n",
    "        emailIds.append(token.text)\n",
    "emailIds"
   ]
  },
  {
   "cell_type": "code",
   "execution_count": 44,
   "id": "03254f59-d729-481e-b1f2-be22646b2064",
   "metadata": {},
   "outputs": [
    {
     "data": {
      "text/plain": [
       "['gimme', 'double', 'cheese', 'extra', 'large', 'healthy', 'pizza']"
      ]
     },
     "execution_count": 44,
     "metadata": {},
     "output_type": "execute_result"
    }
   ],
   "source": [
    "doc = nlp(\"gimme double cheese extra large healthy pizza\")\n",
    "\n",
    "#Storing all tokens in a list by running the for loop directly within the list:\n",
    "tokens = [token.text for token in doc]\n",
    "tokens"
   ]
  },
  {
   "cell_type": "code",
   "execution_count": 45,
   "id": "7b6f1469-8de6-41aa-a604-29131a288ba2",
   "metadata": {},
   "outputs": [
    {
     "data": {
      "text/plain": [
       "['gim', 'me', 'double', 'cheese', 'extra', 'large', 'healthy', 'pizza']"
      ]
     },
     "execution_count": 45,
     "metadata": {},
     "output_type": "execute_result"
    }
   ],
   "source": [
    "#Customising SpaCy to our needs (Eg: 'gimme' is a slang containg two words 'give'(or 'gim') and 'me' so seperating out those):\n",
    "from spacy.symbols import ORTH\n",
    "\n",
    "nlp.tokenizer.add_special_case(\"gimme\", [\n",
    "    {ORTH : \"gim\"},\n",
    "    {ORTH : \"me\"}\n",
    "]);\n",
    "\n",
    "doc = nlp(\"gimme double cheese extra large healthy pizza\")\n",
    "\n",
    "#Storing all tokens in a list by running the for loop directly within the list:\n",
    "tokens = [token.text for token in doc]\n",
    "tokens"
   ]
  },
  {
   "cell_type": "code",
   "execution_count": 46,
   "id": "4c9adec5-fee4-4e37-b05b-21355481fd6b",
   "metadata": {},
   "outputs": [
    {
     "name": "stdout",
     "output_type": "stream",
     "text": [
      "Dr. Strange loves pav bhaji of mumbai.\n",
      "Hulk loves chaat of delhi\n"
     ]
    }
   ],
   "source": [
    "#Sentence Tokenization:\n",
    "\n",
    "#adding a sentence tokenizer instance in nlp pipeline:\n",
    "nlp.add_pipe('sentencizer')\n",
    "\n",
    "\n",
    "doc = nlp(\"Dr. Strange loves pav bhaji of mumbai. Hulk loves chaat of delhi\")\n",
    "\n",
    "for sentence in doc.sents:\n",
    "    print(sentence)"
   ]
  },
  {
   "cell_type": "code",
   "execution_count": null,
   "id": "2aee5429-94cc-48d3-9d78-98afaaa80ae4",
   "metadata": {},
   "outputs": [],
   "source": []
  }
 ],
 "metadata": {
  "kernelspec": {
   "display_name": "Python 3 (ipykernel)",
   "language": "python",
   "name": "python3"
  },
  "language_info": {
   "codemirror_mode": {
    "name": "ipython",
    "version": 3
   },
   "file_extension": ".py",
   "mimetype": "text/x-python",
   "name": "python",
   "nbconvert_exporter": "python",
   "pygments_lexer": "ipython3",
   "version": "3.12.1"
  }
 },
 "nbformat": 4,
 "nbformat_minor": 5
}
