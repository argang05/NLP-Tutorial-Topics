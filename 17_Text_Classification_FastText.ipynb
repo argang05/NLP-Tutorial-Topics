{
 "cells": [
  {
   "cell_type": "markdown",
   "id": "ffece19d-f1a2-4a85-82ac-1b3c4f416b4f",
   "metadata": {},
   "source": [
    "#### Text Classification On E-commerce DataSet Using FastText"
   ]
  },
  {
   "cell_type": "code",
   "execution_count": 16,
   "id": "c7ff09bd-3846-48f1-900a-7e9d4c7fd0c6",
   "metadata": {},
   "outputs": [
    {
     "data": {
      "text/html": [
       "<div>\n",
       "<style scoped>\n",
       "    .dataframe tbody tr th:only-of-type {\n",
       "        vertical-align: middle;\n",
       "    }\n",
       "\n",
       "    .dataframe tbody tr th {\n",
       "        vertical-align: top;\n",
       "    }\n",
       "\n",
       "    .dataframe thead th {\n",
       "        text-align: right;\n",
       "    }\n",
       "</style>\n",
       "<table border=\"1\" class=\"dataframe\">\n",
       "  <thead>\n",
       "    <tr style=\"text-align: right;\">\n",
       "      <th></th>\n",
       "      <th>category</th>\n",
       "      <th>description</th>\n",
       "    </tr>\n",
       "  </thead>\n",
       "  <tbody>\n",
       "    <tr>\n",
       "      <th>0</th>\n",
       "      <td>Household</td>\n",
       "      <td>Paper Plane Design Framed Wall Hanging Motivat...</td>\n",
       "    </tr>\n",
       "    <tr>\n",
       "      <th>1</th>\n",
       "      <td>Household</td>\n",
       "      <td>SAF 'Floral' Framed Painting (Wood, 30 inch x ...</td>\n",
       "    </tr>\n",
       "    <tr>\n",
       "      <th>2</th>\n",
       "      <td>Household</td>\n",
       "      <td>SAF 'UV Textured Modern Art Print Framed' Pain...</td>\n",
       "    </tr>\n",
       "  </tbody>\n",
       "</table>\n",
       "</div>"
      ],
      "text/plain": [
       "    category                                        description\n",
       "0  Household  Paper Plane Design Framed Wall Hanging Motivat...\n",
       "1  Household  SAF 'Floral' Framed Painting (Wood, 30 inch x ...\n",
       "2  Household  SAF 'UV Textured Modern Art Print Framed' Pain..."
      ]
     },
     "execution_count": 16,
     "metadata": {},
     "output_type": "execute_result"
    }
   ],
   "source": [
    "#Reading and storing Data Into DataFrame\n",
    "import pandas as pd\n",
    "df = pd.read_csv(\"ecommerce_dataset.csv\" , names=[\"category\" , \"description\"] , header=None)\n",
    "df.head(3)"
   ]
  },
  {
   "cell_type": "code",
   "execution_count": 17,
   "id": "280a3f01-0ee5-4b5a-a0a8-103089dbfc7b",
   "metadata": {},
   "outputs": [
    {
     "data": {
      "text/plain": [
       "category\n",
       "Household                 19313\n",
       "Books                     11820\n",
       "Electronics               10621\n",
       "Clothing & Accessories     8671\n",
       "Name: count, dtype: int64"
      ]
     },
     "execution_count": 17,
     "metadata": {},
     "output_type": "execute_result"
    }
   ],
   "source": [
    "df.category.value_counts() #Imbalance Check"
   ]
  },
  {
   "cell_type": "code",
   "execution_count": 18,
   "id": "e83ec93a-b62f-4729-ae7a-36747d0b2ee1",
   "metadata": {},
   "outputs": [
    {
     "data": {
      "text/plain": [
       "(50424, 2)"
      ]
     },
     "execution_count": 18,
     "metadata": {},
     "output_type": "execute_result"
    }
   ],
   "source": [
    "#Drop NA Values:\n",
    "df.dropna(inplace=True)\n",
    "df.shape"
   ]
  },
  {
   "cell_type": "code",
   "execution_count": 19,
   "id": "96519b49-2e4e-4db6-9640-7f2089f59fef",
   "metadata": {},
   "outputs": [
    {
     "name": "stderr",
     "output_type": "stream",
     "text": [
      "C:\\Users\\ABHIRUP\\AppData\\Local\\Temp\\ipykernel_12184\\3114539571.py:2: FutureWarning: A value is trying to be set on a copy of a DataFrame or Series through chained assignment using an inplace method.\n",
      "The behavior will change in pandas 3.0. This inplace method will never work because the intermediate object on which we are setting values always behaves as a copy.\n",
      "\n",
      "For example, when doing 'df[col].method(value, inplace=True)', try using 'df.method({col: value}, inplace=True)' or df[col] = df[col].method(value) instead, to perform the operation inplace on the original object.\n",
      "\n",
      "\n",
      "  df.category.replace(\"Clothing & Accessories\",\"Clothing_Accessories\" , inplace=True)\n"
     ]
    },
    {
     "data": {
      "text/html": [
       "<div>\n",
       "<style scoped>\n",
       "    .dataframe tbody tr th:only-of-type {\n",
       "        vertical-align: middle;\n",
       "    }\n",
       "\n",
       "    .dataframe tbody tr th {\n",
       "        vertical-align: top;\n",
       "    }\n",
       "\n",
       "    .dataframe thead th {\n",
       "        text-align: right;\n",
       "    }\n",
       "</style>\n",
       "<table border=\"1\" class=\"dataframe\">\n",
       "  <thead>\n",
       "    <tr style=\"text-align: right;\">\n",
       "      <th></th>\n",
       "      <th>category</th>\n",
       "      <th>description</th>\n",
       "    </tr>\n",
       "  </thead>\n",
       "  <tbody>\n",
       "    <tr>\n",
       "      <th>0</th>\n",
       "      <td>Household</td>\n",
       "      <td>Paper Plane Design Framed Wall Hanging Motivat...</td>\n",
       "    </tr>\n",
       "    <tr>\n",
       "      <th>1</th>\n",
       "      <td>Household</td>\n",
       "      <td>SAF 'Floral' Framed Painting (Wood, 30 inch x ...</td>\n",
       "    </tr>\n",
       "    <tr>\n",
       "      <th>2</th>\n",
       "      <td>Household</td>\n",
       "      <td>SAF 'UV Textured Modern Art Print Framed' Pain...</td>\n",
       "    </tr>\n",
       "    <tr>\n",
       "      <th>3</th>\n",
       "      <td>Household</td>\n",
       "      <td>SAF Flower Print Framed Painting (Synthetic, 1...</td>\n",
       "    </tr>\n",
       "    <tr>\n",
       "      <th>4</th>\n",
       "      <td>Household</td>\n",
       "      <td>Incredible Gifts India Wooden Happy Birthday U...</td>\n",
       "    </tr>\n",
       "  </tbody>\n",
       "</table>\n",
       "</div>"
      ],
      "text/plain": [
       "    category                                        description\n",
       "0  Household  Paper Plane Design Framed Wall Hanging Motivat...\n",
       "1  Household  SAF 'Floral' Framed Painting (Wood, 30 inch x ...\n",
       "2  Household  SAF 'UV Textured Modern Art Print Framed' Pain...\n",
       "3  Household  SAF Flower Print Framed Painting (Synthetic, 1...\n",
       "4  Household  Incredible Gifts India Wooden Happy Birthday U..."
      ]
     },
     "execution_count": 19,
     "metadata": {},
     "output_type": "execute_result"
    }
   ],
   "source": [
    "#Replacing Space with Underscores:\n",
    "df.category.replace(\"Clothing & Accessories\",\"Clothing_Accessories\" , inplace=True)\n",
    "df.head()"
   ]
  },
  {
   "cell_type": "code",
   "execution_count": 20,
   "id": "64e3cddb-43c7-4247-bb00-bc9272eab559",
   "metadata": {},
   "outputs": [
    {
     "data": {
      "text/plain": [
       "category\n",
       "Household               19313\n",
       "Books                   11820\n",
       "Electronics             10621\n",
       "Clothing_Accessories     8670\n",
       "Name: count, dtype: int64"
      ]
     },
     "execution_count": 20,
     "metadata": {},
     "output_type": "execute_result"
    }
   ],
   "source": [
    "df.category.value_counts()"
   ]
  },
  {
   "cell_type": "code",
   "execution_count": 23,
   "id": "43802ef9-276f-4893-9907-5a0758d3f336",
   "metadata": {},
   "outputs": [],
   "source": [
    "#FastText Format => '__label__*Category* *Description*'\n",
    "# df['category'] = \"__label__\" + df['category'].astype(str)\n",
    "# df.head(3)"
   ]
  },
  {
   "cell_type": "code",
   "execution_count": 31,
   "id": "a06060a9-1b14-4411-9b81-99d837d90f95",
   "metadata": {},
   "outputs": [
    {
     "data": {
      "text/html": [
       "<div>\n",
       "<style scoped>\n",
       "    .dataframe tbody tr th:only-of-type {\n",
       "        vertical-align: middle;\n",
       "    }\n",
       "\n",
       "    .dataframe tbody tr th {\n",
       "        vertical-align: top;\n",
       "    }\n",
       "\n",
       "    .dataframe thead th {\n",
       "        text-align: right;\n",
       "    }\n",
       "</style>\n",
       "<table border=\"1\" class=\"dataframe\">\n",
       "  <thead>\n",
       "    <tr style=\"text-align: right;\">\n",
       "      <th></th>\n",
       "      <th>category</th>\n",
       "      <th>description</th>\n",
       "      <th>category_description</th>\n",
       "    </tr>\n",
       "  </thead>\n",
       "  <tbody>\n",
       "    <tr>\n",
       "      <th>0</th>\n",
       "      <td>__label__Household</td>\n",
       "      <td>Paper Plane Design Framed Wall Hanging Motivat...</td>\n",
       "      <td>__label__Household Paper Plane Design Framed W...</td>\n",
       "    </tr>\n",
       "    <tr>\n",
       "      <th>1</th>\n",
       "      <td>__label__Household</td>\n",
       "      <td>SAF 'Floral' Framed Painting (Wood, 30 inch x ...</td>\n",
       "      <td>__label__Household SAF 'Floral' Framed Paintin...</td>\n",
       "    </tr>\n",
       "    <tr>\n",
       "      <th>2</th>\n",
       "      <td>__label__Household</td>\n",
       "      <td>SAF 'UV Textured Modern Art Print Framed' Pain...</td>\n",
       "      <td>__label__Household SAF 'UV Textured Modern Art...</td>\n",
       "    </tr>\n",
       "  </tbody>\n",
       "</table>\n",
       "</div>"
      ],
      "text/plain": [
       "             category                                        description  \\\n",
       "0  __label__Household  Paper Plane Design Framed Wall Hanging Motivat...   \n",
       "1  __label__Household  SAF 'Floral' Framed Painting (Wood, 30 inch x ...   \n",
       "2  __label__Household  SAF 'UV Textured Modern Art Print Framed' Pain...   \n",
       "\n",
       "                                category_description  \n",
       "0  __label__Household Paper Plane Design Framed W...  \n",
       "1  __label__Household SAF 'Floral' Framed Paintin...  \n",
       "2  __label__Household SAF 'UV Textured Modern Art...  "
      ]
     },
     "execution_count": 31,
     "metadata": {},
     "output_type": "execute_result"
    }
   ],
   "source": [
    "#Merging Category And Description To Make it in acceptable format as per FastText:\n",
    "df['category_description'] = df['category'] + \" \" + df['description']\n",
    "df.head(3)"
   ]
  },
  {
   "cell_type": "code",
   "execution_count": 32,
   "id": "25c0db91-2b30-4dd3-b362-9c55ae9f02bd",
   "metadata": {},
   "outputs": [
    {
     "data": {
      "text/plain": [
       "'__label__Household Paper Plane Design Framed Wall Hanging Motivational Office Decor Art Prints (8.7 X 8.7 inch) - Set of 4 Painting made up in synthetic frame with uv textured print which gives multi effects and attracts towards it. This is an special series of paintings which makes your wall very beautiful and gives a royal touch. This painting is ready to hang, you would be proud to possess this unique painting that is a niche apart. We use only the most modern and efficient printing technology on our prints, with only the and inks and precision epson, roland and hp printers. This innovative hd printing technique results in durable and spectacular looking prints of the highest that last a lifetime. We print solely with top-notch 100% inks, to achieve brilliant and true colours. Due to their high level of uv resistance, our prints retain their beautiful colours for many years. Add colour and style to your living space with this digitally printed painting. Some are for pleasure and some for eternal bliss.so bring home this elegant print that is lushed with rich colors that makes it nothing but sheer elegance to be to your friends and family.it would be treasured forever by whoever your lucky recipient is. Liven up your place with these intriguing paintings that are high definition hd graphic digital prints for home, office or any room.'"
      ]
     },
     "execution_count": 32,
     "metadata": {},
     "output_type": "execute_result"
    }
   ],
   "source": [
    "df['category_description'][0]"
   ]
  },
  {
   "cell_type": "code",
   "execution_count": 28,
   "id": "88ace889-cede-41b4-bbe1-5aa87da4f7a6",
   "metadata": {},
   "outputs": [],
   "source": [
    "import re\n",
    "#Doing all sorts of Text Cleaning in One Function:\n",
    "def preprocess(text):\n",
    "    #Substitute the Punctuation Marks Or Special Characters with blank space:\n",
    "    text = re.sub(r'[^\\w\\s\\']' ,' ',text,flags=re.MULTILINE)\n",
    "    #Removing Extra Spaces and \\n and replacing with a single space:\n",
    "    text = re.sub(r\"[ \\n]+\" , \" \" , text , flags=re.MULTILINE)\n",
    "    #Removing Leading and Trailing Spaces and Also Convert All Words to Lower Case:\n",
    "    return text.strip().lower()"
   ]
  },
  {
   "cell_type": "code",
   "execution_count": 33,
   "id": "2792961c-c040-41f3-8174-4282cd0070ff",
   "metadata": {},
   "outputs": [],
   "source": [
    "#Performing Text Cleaning On All Rows Of df['category_description']:\n",
    "df['category_description'] = df['category_description'].map(preprocess)"
   ]
  },
  {
   "cell_type": "code",
   "execution_count": 34,
   "id": "1789a9ec-987e-4a43-a074-c3e4a93f8985",
   "metadata": {},
   "outputs": [
    {
     "data": {
      "text/plain": [
       "'__label__household paper plane design framed wall hanging motivational office decor art prints 8 7 x 8 7 inch set of 4 painting made up in synthetic frame with uv textured print which gives multi effects and attracts towards it this is an special series of paintings which makes your wall very beautiful and gives a royal touch this painting is ready to hang you would be proud to possess this unique painting that is a niche apart we use only the most modern and efficient printing technology on our prints with only the and inks and precision epson roland and hp printers this innovative hd printing technique results in durable and spectacular looking prints of the highest that last a lifetime we print solely with top notch 100 inks to achieve brilliant and true colours due to their high level of uv resistance our prints retain their beautiful colours for many years add colour and style to your living space with this digitally printed painting some are for pleasure and some for eternal bliss so bring home this elegant print that is lushed with rich colors that makes it nothing but sheer elegance to be to your friends and family it would be treasured forever by whoever your lucky recipient is liven up your place with these intriguing paintings that are high definition hd graphic digital prints for home office or any room'"
      ]
     },
     "execution_count": 34,
     "metadata": {},
     "output_type": "execute_result"
    }
   ],
   "source": [
    "df['category_description'][0]"
   ]
  },
  {
   "cell_type": "code",
   "execution_count": 35,
   "id": "69618510-c2c9-4821-893b-82dfbbcd26b2",
   "metadata": {},
   "outputs": [],
   "source": [
    "#Split Dataset:\n",
    "from sklearn.model_selection import train_test_split\n",
    "\n",
    "train , test = train_test_split(\n",
    "    df,\n",
    "    test_size=0.2\n",
    ")"
   ]
  },
  {
   "cell_type": "code",
   "execution_count": 36,
   "id": "42a13824-f469-4640-8098-b412e1b444c0",
   "metadata": {},
   "outputs": [
    {
     "data": {
      "text/plain": [
       "((40339, 3), (10085, 3))"
      ]
     },
     "execution_count": 36,
     "metadata": {},
     "output_type": "execute_result"
    }
   ],
   "source": [
    "train.shape , test.shape"
   ]
  },
  {
   "cell_type": "code",
   "execution_count": 37,
   "id": "07699c56-ac9c-4942-88ac-1b866c490a27",
   "metadata": {},
   "outputs": [
    {
     "data": {
      "text/html": [
       "<div>\n",
       "<style scoped>\n",
       "    .dataframe tbody tr th:only-of-type {\n",
       "        vertical-align: middle;\n",
       "    }\n",
       "\n",
       "    .dataframe tbody tr th {\n",
       "        vertical-align: top;\n",
       "    }\n",
       "\n",
       "    .dataframe thead th {\n",
       "        text-align: right;\n",
       "    }\n",
       "</style>\n",
       "<table border=\"1\" class=\"dataframe\">\n",
       "  <thead>\n",
       "    <tr style=\"text-align: right;\">\n",
       "      <th></th>\n",
       "      <th>category</th>\n",
       "      <th>description</th>\n",
       "      <th>category_description</th>\n",
       "    </tr>\n",
       "  </thead>\n",
       "  <tbody>\n",
       "    <tr>\n",
       "      <th>26361</th>\n",
       "      <td>__label__Books</td>\n",
       "      <td>A Textbook of Agricultural Statistics About th...</td>\n",
       "      <td>__label__books a textbook of agricultural stat...</td>\n",
       "    </tr>\n",
       "    <tr>\n",
       "      <th>37102</th>\n",
       "      <td>__label__Clothing_Accessories</td>\n",
       "      <td>Clovia Women's Plain Control Panty Taupe shape...</td>\n",
       "      <td>__label__clothing_accessories clovia women's p...</td>\n",
       "    </tr>\n",
       "    <tr>\n",
       "      <th>46768</th>\n",
       "      <td>__label__Electronics</td>\n",
       "      <td>CAM 360 HD Mini DVR Button Pinhole Spy Hidden ...</td>\n",
       "      <td>__label__electronics cam 360 hd mini dvr butto...</td>\n",
       "    </tr>\n",
       "  </tbody>\n",
       "</table>\n",
       "</div>"
      ],
      "text/plain": [
       "                            category  \\\n",
       "26361                 __label__Books   \n",
       "37102  __label__Clothing_Accessories   \n",
       "46768           __label__Electronics   \n",
       "\n",
       "                                             description  \\\n",
       "26361  A Textbook of Agricultural Statistics About th...   \n",
       "37102  Clovia Women's Plain Control Panty Taupe shape...   \n",
       "46768  CAM 360 HD Mini DVR Button Pinhole Spy Hidden ...   \n",
       "\n",
       "                                    category_description  \n",
       "26361  __label__books a textbook of agricultural stat...  \n",
       "37102  __label__clothing_accessories clovia women's p...  \n",
       "46768  __label__electronics cam 360 hd mini dvr butto...  "
      ]
     },
     "execution_count": 37,
     "metadata": {},
     "output_type": "execute_result"
    }
   ],
   "source": [
    "train.head(3)"
   ]
  },
  {
   "cell_type": "code",
   "execution_count": 38,
   "id": "fba7b1e8-3e95-4d58-b102-c9f67e7aa179",
   "metadata": {},
   "outputs": [],
   "source": [
    "#Exporting/Generating A Text File From the Columns Of Category_Description:\n",
    "train.to_csv(\"ecommerce.train\" , columns=['category_description'] , header=False , index=False)\n",
    "test.to_csv(\"ecommerce.test\" , columns=['category_description'] , header=False , index=False)"
   ]
  },
  {
   "cell_type": "code",
   "execution_count": 39,
   "id": "e99931d0-2e0a-4adf-8e20-3f4179000a7d",
   "metadata": {},
   "outputs": [],
   "source": [
    "#Train Fasttext Model:\n",
    "import fasttext \n",
    "\n",
    "#The Supervised Model Is Used For Text Classification:\n",
    "#Train the Model:\n",
    "fsTxt_model = fasttext.train_supervised(input=\"ecommerce.train\")"
   ]
  },
  {
   "cell_type": "code",
   "execution_count": 41,
   "id": "f1f97f16-937e-4076-8ffc-9c44fabf80a0",
   "metadata": {},
   "outputs": [
    {
     "data": {
      "text/plain": [
       "(10085, 0.9689638076351016, 0.9689638076351016)"
      ]
     },
     "execution_count": 41,
     "metadata": {},
     "output_type": "execute_result"
    }
   ],
   "source": [
    "#Test the Model:\n",
    "fsTxt_model.test(\"ecommerce.test\") #(Size_Of_Test_Samples , Precision , Recall)"
   ]
  },
  {
   "cell_type": "code",
   "execution_count": 42,
   "id": "e48ed084-2a41-442a-b8ea-e78f079d403a",
   "metadata": {},
   "outputs": [
    {
     "data": {
      "text/plain": [
       "(('__label__clothing_accessories',), array([1.00000715]))"
      ]
     },
     "execution_count": 42,
     "metadata": {},
     "output_type": "execute_result"
    }
   ],
   "source": [
    "#Predictions:\n",
    "fsTxt_model.predict(\"vimal men's cotton crush short d12 anthra p punlicize the freeliving lifestyle wearing shorts by vimal made from cotton these shorts will keep you comfortable throughout featuring an attractive colour these shorts will surely lend you a smart look crafted from cotton\")"
   ]
  },
  {
   "cell_type": "code",
   "execution_count": 43,
   "id": "fcfbe7a8-94a9-49e8-b11d-92f9c6a23b9f",
   "metadata": {},
   "outputs": [
    {
     "data": {
      "text/plain": [
       "(('__label__books',), array([1.00000966]))"
      ]
     },
     "execution_count": 43,
     "metadata": {},
     "output_type": "execute_result"
    }
   ],
   "source": [
    "fsTxt_model.predict(\"think and grow rich deluxe edition\")"
   ]
  },
  {
   "cell_type": "code",
   "execution_count": null,
   "id": "c4c5580f-5060-4b70-baca-48266a78d692",
   "metadata": {},
   "outputs": [],
   "source": []
  }
 ],
 "metadata": {
  "kernelspec": {
   "display_name": "Python 3 (ipykernel)",
   "language": "python",
   "name": "python3"
  },
  "language_info": {
   "codemirror_mode": {
    "name": "ipython",
    "version": 3
   },
   "file_extension": ".py",
   "mimetype": "text/x-python",
   "name": "python",
   "nbconvert_exporter": "python",
   "pygments_lexer": "ipython3",
   "version": "3.12.1"
  }
 },
 "nbformat": 4,
 "nbformat_minor": 5
}
