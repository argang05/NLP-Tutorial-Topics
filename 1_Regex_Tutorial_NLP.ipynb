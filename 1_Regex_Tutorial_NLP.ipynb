{
 "cells": [
  {
   "cell_type": "code",
   "execution_count": 3,
   "id": "68e6c2bf-2f87-4c63-afdc-03e074698cad",
   "metadata": {},
   "outputs": [],
   "source": [
    "import re"
   ]
  },
  {
   "cell_type": "code",
   "execution_count": 17,
   "id": "fa025bf0-9736-4288-950f-d32ce8d30e2b",
   "metadata": {},
   "outputs": [],
   "source": [
    "chat1 = 'codebasics: you ask lot of questions 😠 1235678912, abc@xyz.com'\n",
    "chat2 = 'codebasics: here it is: (123)-567-8912, abX_76@xyz.com'\n",
    "chat3 = 'codebasics: yes, phone: 1235678912 email: abc@xyz.com'\n",
    "chat4 = 'codebasics: Hello, I am having an issue with my order # 412889912'\n",
    "chat5 = 'codebasics: I have a problem with my order number 412889912'\n",
    "chat6 = 'codebasics: My order 412889912 is having an issue, I was charged 300$ when online it says 280$'"
   ]
  },
  {
   "cell_type": "code",
   "execution_count": 22,
   "id": "f29e3470-363c-4d63-9276-cdbadae901b6",
   "metadata": {},
   "outputs": [
    {
     "name": "stdout",
     "output_type": "stream",
     "text": [
      "412889912\n"
     ]
    }
   ],
   "source": [
    "patternPhoneNumber= r'\\d{10}|\\(\\d{3}\\)-\\d{3}-\\d{4}'\n",
    "patternEmailAddress= r'[a-z0-9A-Z_]*@[a-z0-9A-Z]*\\.[a-zA-Z]*'\n",
    "patternOrderId= r'order[^\\d]*(\\d*)'\n",
    "\n",
    "matches = re.findall(patternOrderId,chat6)\n",
    "# emailOne = matches[0]\n",
    "print(f\"{matches[0]}\")"
   ]
  },
  {
   "cell_type": "code",
   "execution_count": 1,
   "id": "9862b1a1-23f6-4118-8d99-2775137d10e2",
   "metadata": {},
   "outputs": [],
   "source": [
    "text = '''\n",
    "Born\tElon Reeve Musk\n",
    "June 28, 1971 (age 53)\n",
    "Pretoria, Transvaal, South Africa\n",
    "Citizenship\t\n",
    "South Africa\n",
    "Canada (from 1989)\n",
    "United States (from 2002)\n",
    "Political party\tRepublican\n",
    "Spouses\t\n",
    "Justine Wilson\n",
    "​\n",
    "​(m. 2000; div. 2008)​\n",
    "Talulah Riley\n",
    "​\n",
    "​(m. 2010; div. 2012)​\n",
    "​\n",
    "​(m. 2013; div. 2016)​\n",
    "Children\t12[1]\n",
    "Parents\t\n",
    "Errol Musk (father)\n",
    "Maye Musk (mother)\n",
    "Relatives\t\n",
    "Kimbal Musk (brother)\n",
    "Tosca Musk (sister)\n",
    "Lyndon Rive (cousin)\n",
    "Joshua N. Haldeman (grandfather)\n",
    "Education\tUniversity of Pennsylvania (BA, BS)\n",
    "Occupation\t\n",
    "Founder, CEO, and chief engineer of SpaceX\n",
    "CEO and product architect of Tesla, Inc.\n",
    "Owner, CTO and executive chairman of X (formerly Twitter)\n",
    "Founder of The Boring Company, X Corp., and xAI\n",
    "Co-founder of Neuralink, OpenAI, Zip2, and X.com (part of PayPal)\n",
    "President of the Musk Foundation\n",
    "'''"
   ]
  },
  {
   "cell_type": "code",
   "execution_count": 7,
   "id": "b2c008d3-432e-4a5c-854b-062446fa0d7c",
   "metadata": {},
   "outputs": [
    {
     "name": "stdout",
     "output_type": "stream",
     "text": [
      "Pretoria, Transvaal, South Africa\n"
     ]
    }
   ],
   "source": [
    "patternAge = r'age (\\d+)'\n",
    "patternName = r'Born(.*)\\n'\n",
    "patternBirthDate = r'Born.*\\n(.*)\\(age'\n",
    "patternBirthPlace = r'\\(age.*\\n(.*)'\n",
    "\n",
    "matches = re.findall(patternBirthPlace,text)\n",
    "# print(matches[0].strip())\n",
    "print(matches[0])"
   ]
  },
  {
   "cell_type": "code",
   "execution_count": 8,
   "id": "2b36c86b-b8e2-4197-92d1-9b78cc9205f2",
   "metadata": {},
   "outputs": [],
   "source": [
    "def get_pattern_match(pattern , text):\n",
    "    matches = re.findall(pattern,text)\n",
    "    if matches:\n",
    "        return matches[0]"
   ]
  },
  {
   "cell_type": "code",
   "execution_count": 9,
   "id": "0e48d1e9-bc09-4d3d-854e-0c9b74596948",
   "metadata": {},
   "outputs": [
    {
     "data": {
      "text/plain": [
       "'Pretoria, Transvaal, South Africa'"
      ]
     },
     "execution_count": 9,
     "metadata": {},
     "output_type": "execute_result"
    }
   ],
   "source": [
    "get_pattern_match(patternBirthPlace,text)"
   ]
  },
  {
   "cell_type": "code",
   "execution_count": 10,
   "id": "10f365b7-01d8-43c8-abfc-3b40cbd7eca1",
   "metadata": {},
   "outputs": [],
   "source": [
    "def get_personal_info(text):\n",
    "    age = get_pattern_match(r'age (\\d+)',text)\n",
    "    name = get_pattern_match(r'Born(.*)\\n',text)\n",
    "    birthDate = get_pattern_match(r'Born.*\\n(.*)\\(age',text)\n",
    "    birthPlace = get_pattern_match(r'\\(age.*\\n(.*)',text)\n",
    "    return {\n",
    "        \"age\" : int(age),\n",
    "        \"fullName\" : name.strip(),\n",
    "        \"birthDate\" : birthDate.strip(),\n",
    "        \"birthPlace\" : birthPlace.strip() \n",
    "    }"
   ]
  },
  {
   "cell_type": "code",
   "execution_count": 14,
   "id": "3187969d-85d2-4d94-add1-5ed5e0866cd9",
   "metadata": {},
   "outputs": [
    {
     "data": {
      "text/plain": [
       "{'age': 67,\n",
       " 'fullName': 'Mukesh Dhirubhai Ambani',\n",
       " 'birthDate': '19 April 1957',\n",
       " 'birthPlace': 'Aden, Colony of Aden'}"
      ]
     },
     "execution_count": 14,
     "metadata": {},
     "output_type": "execute_result"
    }
   ],
   "source": [
    "# get_personal_info(text)\n",
    "\n",
    "get_personal_info('''\n",
    "Born\tMukesh Dhirubhai Ambani\n",
    "19 April 1957 (age 67)\n",
    "Aden, Colony of Aden\n",
    "(present-day Yemen)[1][2]\n",
    "Nationality\tIndian\n",
    "Alma mater\t\n",
    "St. Xavier's College, Mumbai\n",
    "Institute of Chemical Technology (B.E.)\n",
    "Occupation\tBusinessman\n",
    "Years active\t1981–present\n",
    "Organization\tReliance Industries\n",
    "Title\tChairman and MD of Reliance Industries\n",
    "Spouse\tNita Ambani ​(m. 1985)​[3]\n",
    "Children\t3\n",
    "Parents\t\n",
    "Dhirubhai Ambani (father)\n",
    "Kokilaben Ambani (mother)\n",
    "Relatives\tAnil Ambani (brother)\n",
    "Tina Ambani (sister-in-law)\n",
    "''')"
   ]
  },
  {
   "cell_type": "code",
   "execution_count": null,
   "id": "c8b18ff3-50a2-4380-ad24-a4e998187cfa",
   "metadata": {},
   "outputs": [],
   "source": []
  }
 ],
 "metadata": {
  "kernelspec": {
   "display_name": "Python 3 (ipykernel)",
   "language": "python",
   "name": "python3"
  },
  "language_info": {
   "codemirror_mode": {
    "name": "ipython",
    "version": 3
   },
   "file_extension": ".py",
   "mimetype": "text/x-python",
   "name": "python",
   "nbconvert_exporter": "python",
   "pygments_lexer": "ipython3",
   "version": "3.12.1"
  }
 },
 "nbformat": 4,
 "nbformat_minor": 5
}
