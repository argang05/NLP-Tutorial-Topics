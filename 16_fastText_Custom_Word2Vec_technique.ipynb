{
 "cells": [
  {
   "cell_type": "code",
   "execution_count": 2,
   "id": "9169c8e1-1ca5-4d67-916d-e857bc383ea6",
   "metadata": {},
   "outputs": [
    {
     "name": "stdout",
     "output_type": "stream",
     "text": [
      "Collecting fasttext-wheel\n",
      "  Using cached fasttext_wheel-0.9.2-cp312-cp312-win_amd64.whl.metadata (16 kB)\n",
      "Requirement already satisfied: pybind11>=2.2 in c:\\python312\\lib\\site-packages (from fasttext-wheel) (2.13.6)\n",
      "Requirement already satisfied: setuptools>=0.7.0 in c:\\python312\\lib\\site-packages (from fasttext-wheel) (75.8.0)\n",
      "Requirement already satisfied: numpy in c:\\users\\abhirup\\appdata\\roaming\\python\\python312\\site-packages (from fasttext-wheel) (1.26.4)\n",
      "Using cached fasttext_wheel-0.9.2-cp312-cp312-win_amd64.whl (234 kB)\n",
      "Installing collected packages: fasttext-wheel\n",
      "Successfully installed fasttext-wheel-0.9.2\n"
     ]
    }
   ],
   "source": [
    "import sys\n",
    "!{sys.executable} -m pip install fasttext-wheel"
   ]
  },
  {
   "cell_type": "code",
   "execution_count": 23,
   "id": "1593f24e-a178-417a-89a8-1199c136064b",
   "metadata": {},
   "outputs": [],
   "source": [
    "import fasttext"
   ]
  },
  {
   "cell_type": "code",
   "execution_count": 24,
   "id": "1fb32626-79e5-45e6-8999-9bf497bab180",
   "metadata": {},
   "outputs": [],
   "source": [
    "model_en = fasttext.load_model(\"D:\\\\fastText Models\\\\cc.en.300.bin\")"
   ]
  },
  {
   "cell_type": "code",
   "execution_count": 5,
   "id": "068e6b55-deea-4824-899e-9967902dff15",
   "metadata": {},
   "outputs": [
    {
     "data": {
      "text/plain": [
       "[(0.7517593502998352, 'bad'),\n",
       " (0.7426098585128784, 'great'),\n",
       " (0.7299689054489136, 'decent'),\n",
       " (0.7123614549636841, 'nice'),\n",
       " (0.6796907186508179, 'Good'),\n",
       " (0.6737031936645508, 'excellent'),\n",
       " (0.669592022895813, 'goood'),\n",
       " (0.6602178812026978, 'ggod'),\n",
       " (0.6479219794273376, 'semi-good'),\n",
       " (0.6417751908302307, 'good.Good')]"
      ]
     },
     "execution_count": 5,
     "metadata": {},
     "output_type": "execute_result"
    }
   ],
   "source": [
    "#Get Similarity Between Words:\n",
    "model_en.get_nearest_neighbors(\"good\")"
   ]
  },
  {
   "cell_type": "code",
   "execution_count": null,
   "id": "0b72b20f-43c0-4a71-a318-29538c2eb1e8",
   "metadata": {},
   "outputs": [],
   "source": []
  },
  {
   "cell_type": "code",
   "execution_count": 6,
   "id": "f8260985-657c-4a91-9b53-41851b6d2714",
   "metadata": {},
   "outputs": [
    {
     "data": {
      "text/plain": [
       "(0.7148876190185547, 'delhi')"
      ]
     },
     "execution_count": 6,
     "metadata": {},
     "output_type": "execute_result"
    }
   ],
   "source": [
    "#Getting Analogies:\n",
    "#Understanding the Similarity between berlin and germany and then determining similar word for india\n",
    "model_en.get_analogies(\"berlin\",\"germany\",\"india\")[0]"
   ]
  },
  {
   "cell_type": "markdown",
   "id": "6c58ab38-7e6c-468e-a321-eabbe7608ef9",
   "metadata": {},
   "source": [
    "### Indian Food Recipes NLP Model Building:"
   ]
  },
  {
   "cell_type": "code",
   "execution_count": 1,
   "id": "3e7585e0-ffb0-444a-97e9-22c50d329eb1",
   "metadata": {},
   "outputs": [
    {
     "data": {
      "text/html": [
       "<div>\n",
       "<style scoped>\n",
       "    .dataframe tbody tr th:only-of-type {\n",
       "        vertical-align: middle;\n",
       "    }\n",
       "\n",
       "    .dataframe tbody tr th {\n",
       "        vertical-align: top;\n",
       "    }\n",
       "\n",
       "    .dataframe thead th {\n",
       "        text-align: right;\n",
       "    }\n",
       "</style>\n",
       "<table border=\"1\" class=\"dataframe\">\n",
       "  <thead>\n",
       "    <tr style=\"text-align: right;\">\n",
       "      <th></th>\n",
       "      <th>TranslatedRecipeName</th>\n",
       "      <th>TranslatedIngredients</th>\n",
       "      <th>TotalTimeInMins</th>\n",
       "      <th>Cuisine</th>\n",
       "      <th>TranslatedInstructions</th>\n",
       "      <th>URL</th>\n",
       "      <th>Cleaned-Ingredients</th>\n",
       "      <th>image-url</th>\n",
       "      <th>Ingredient-count</th>\n",
       "    </tr>\n",
       "  </thead>\n",
       "  <tbody>\n",
       "    <tr>\n",
       "      <th>0</th>\n",
       "      <td>Masala Karela Recipe</td>\n",
       "      <td>1 tablespoon Red Chilli powder,3 tablespoon Gr...</td>\n",
       "      <td>45</td>\n",
       "      <td>Indian</td>\n",
       "      <td>To begin making the Masala Karela Recipe,de-se...</td>\n",
       "      <td>https://www.archanaskitchen.com/masala-karela-...</td>\n",
       "      <td>salt,amchur (dry mango powder),karela (bitter ...</td>\n",
       "      <td>https://www.archanaskitchen.com/images/archana...</td>\n",
       "      <td>10</td>\n",
       "    </tr>\n",
       "    <tr>\n",
       "      <th>1</th>\n",
       "      <td>Spicy Tomato Rice (Recipe)</td>\n",
       "      <td>2 teaspoon cashew - or peanuts, 1/2 Teaspoon ...</td>\n",
       "      <td>15</td>\n",
       "      <td>South Indian Recipes</td>\n",
       "      <td>To make tomato puliogere, first cut the tomato...</td>\n",
       "      <td>https://www.archanaskitchen.com/spicy-tomato-r...</td>\n",
       "      <td>tomato,salt,chickpea lentils,green chilli,rice...</td>\n",
       "      <td>https://www.archanaskitchen.com/images/archana...</td>\n",
       "      <td>12</td>\n",
       "    </tr>\n",
       "    <tr>\n",
       "      <th>2</th>\n",
       "      <td>Ragi Semiya Upma Recipe - Ragi Millet Vermicel...</td>\n",
       "      <td>1 Onion - sliced,1 teaspoon White Urad Dal (Sp...</td>\n",
       "      <td>50</td>\n",
       "      <td>South Indian Recipes</td>\n",
       "      <td>To begin making the Ragi Vermicelli Recipe, fi...</td>\n",
       "      <td>https://www.archanaskitchen.com/ragi-vermicell...</td>\n",
       "      <td>salt,rice vermicelli noodles (thin),asafoetida...</td>\n",
       "      <td>https://www.archanaskitchen.com/images/archana...</td>\n",
       "      <td>12</td>\n",
       "    </tr>\n",
       "    <tr>\n",
       "      <th>3</th>\n",
       "      <td>Gongura Chicken Curry Recipe - Andhra Style Go...</td>\n",
       "      <td>1/2 teaspoon Turmeric powder (Haldi),1 tablesp...</td>\n",
       "      <td>45</td>\n",
       "      <td>Andhra</td>\n",
       "      <td>To begin making Gongura Chicken Curry Recipe f...</td>\n",
       "      <td>https://www.archanaskitchen.com/gongura-chicke...</td>\n",
       "      <td>tomato,salt,ginger,sorrel leaves (gongura),fen...</td>\n",
       "      <td>https://www.archanaskitchen.com/images/archana...</td>\n",
       "      <td>15</td>\n",
       "    </tr>\n",
       "    <tr>\n",
       "      <th>4</th>\n",
       "      <td>Andhra Style Alam Pachadi Recipe - Adrak Chutn...</td>\n",
       "      <td>oil - as per use, 1 tablespoon coriander seed...</td>\n",
       "      <td>30</td>\n",
       "      <td>Andhra</td>\n",
       "      <td>To make Andhra Style Alam Pachadi, first heat ...</td>\n",
       "      <td>https://www.archanaskitchen.com/andhra-style-a...</td>\n",
       "      <td>tomato,salt,ginger,red chillies,curry,asafoeti...</td>\n",
       "      <td>https://www.archanaskitchen.com/images/archana...</td>\n",
       "      <td>12</td>\n",
       "    </tr>\n",
       "  </tbody>\n",
       "</table>\n",
       "</div>"
      ],
      "text/plain": [
       "                                TranslatedRecipeName  ... Ingredient-count\n",
       "0                               Masala Karela Recipe  ...               10\n",
       "1                         Spicy Tomato Rice (Recipe)  ...               12\n",
       "2  Ragi Semiya Upma Recipe - Ragi Millet Vermicel...  ...               12\n",
       "3  Gongura Chicken Curry Recipe - Andhra Style Go...  ...               15\n",
       "4  Andhra Style Alam Pachadi Recipe - Adrak Chutn...  ...               12\n",
       "\n",
       "[5 rows x 9 columns]"
      ]
     },
     "execution_count": 1,
     "metadata": {},
     "output_type": "execute_result"
    }
   ],
   "source": [
    "#Reading CSV File:\n",
    "import pandas as pd\n",
    "\n",
    "df = pd.read_csv(\"Cleaned_Indian_Food_Dataset.csv\")\n",
    "\n",
    "df.head()"
   ]
  },
  {
   "cell_type": "code",
   "execution_count": 4,
   "id": "29db5404-217d-47c0-b39c-31a0a6333ae6",
   "metadata": {},
   "outputs": [
    {
     "name": "stdout",
     "output_type": "stream",
     "text": [
      "To begin making the Masala Karela Recipe,de-seed the karela and slice.\n",
      "Do not remove the skin as the skin has all the nutrients.\n",
      "Add the karela to the pressure cooker with 3 tablespoon of water, salt and turmeric powder and pressure cook for three whistles.\n",
      "Release the pressure immediately and open the lids.\n",
      "Keep aside.Heat oil in a heavy bottomed pan or a kadhai.\n",
      "Add cumin seeds and let it sizzle.Once the cumin seeds have sizzled, add onions and saute them till it turns golden brown in color.Add the karela, red chilli powder, amchur powder, coriander powder and besan.\n",
      "Stir to combine the masalas into the karela.Drizzle a little extra oil on the top and mix again.\n",
      "Cover the pan and simmer Masala Karela stirring occasionally until everything comes together well.\n",
      "Turn off the heat.Transfer Masala Karela into a serving bowl and serve.Serve Masala Karela along with Panchmel Dal and Phulka for a weekday meal with your family.\n",
      "\n"
     ]
    },
    {
     "data": {
      "text/plain": [
       "'To begin making the Masala Karela Recipe,de-seed the karela and slice.\\nDo not remove the skin as the skin has all the nutrients.\\nAdd the karela to the pressure cooker with 3 tablespoon of water, salt and turmeric powder and pressure cook for three whistles.\\nRelease the pressure immediately and open the lids.\\nKeep aside.Heat oil in a heavy bottomed pan or a kadhai.\\nAdd cumin seeds and let it sizzle.Once the cumin seeds have sizzled, add onions and saute them till it turns golden brown in color.Add the karela, red chilli powder, amchur powder, coriander powder and besan.\\nStir to combine the masalas into the karela.Drizzle a little extra oil on the top and mix again.\\nCover the pan and simmer Masala Karela stirring occasionally until everything comes together well.\\nTurn off the heat.Transfer Masala Karela into a serving bowl and serve.Serve Masala Karela along with Panchmel Dal and Phulka for a weekday meal with your family.\\n'"
      ]
     },
     "execution_count": 4,
     "metadata": {},
     "output_type": "execute_result"
    }
   ],
   "source": [
    "print(df.TranslatedInstructions[0])\n",
    "df.TranslatedInstructions[0]"
   ]
  },
  {
   "cell_type": "code",
   "execution_count": 7,
   "id": "ef167182-0cbf-4da9-be8d-bf354802898f",
   "metadata": {},
   "outputs": [],
   "source": [
    "#Removing Punctuations and \\n from the text (text cleaning) using Regular Expressions:\n",
    "import re\n",
    "\n",
    "text = 'To begin making the Masala Karela Recipe,de-seed the karela and slice.\\nDo not remove the skin as the skin has all the nutrients.\\nAdd the karela to the pressure cooker with 3 tablespoon of water, salt and turmeric powder and pressure cook for three whistles.\\nRelease the pressure immediately and open the lids.\\nKeep aside.Heat oil in a heavy bottomed pan or a kadhai.\\nAdd cumin seeds and let it sizzle.Once the cumin seeds have sizzled, add onions and saute them till it turns golden brown in color.Add the karela, red chilli powder, amchur powder, coriander powder and besan.\\nStir to combine the masalas into the karela.Drizzle a little extra oil on the top and mix again.\\nCover the pan and simmer Masala Karela stirring occasionally until everything comes together well.\\nTurn off the heat.Transfer Masala Karela into a serving bowl and serve.Serve Masala Karela along with Panchmel Dal and Phulka for a weekday meal with your family.\\n'"
   ]
  },
  {
   "cell_type": "code",
   "execution_count": 21,
   "id": "d6ba7f2c-0930-4d4b-b696-6b72f8b04246",
   "metadata": {},
   "outputs": [],
   "source": [
    "#Substitute the Punctuation Marks Or Special Characters with blank space:\n",
    "text = re.sub(r'[^\\w\\s]' ,' ',text,flags=re.MULTILINE)"
   ]
  },
  {
   "cell_type": "code",
   "execution_count": 22,
   "id": "9cdb6ec3-dee9-42ec-8238-48bf9c63d168",
   "metadata": {},
   "outputs": [
    {
     "data": {
      "text/plain": [
       "'To begin making the Masala Karela Recipe de seed the karela and slice Do not remove the skin as the skin has all the nutrients Add the karela to the pressure cooker with 3 tablespoon of water salt and turmeric powder and pressure cook for three whistles Release the pressure immediately and open the lids Keep aside Heat oil in a heavy bottomed pan or a kadhai Add cumin seeds and let it sizzle Once the cumin seeds have sizzled add onions and saute them till it turns golden brown in color Add the karela red chilli powder amchur powder coriander powder and besan Stir to combine the masalas into the karela Drizzle a little extra oil on the top and mix again Cover the pan and simmer Masala Karela stirring occasionally until everything comes together well Turn off the heat Transfer Masala Karela into a serving bowl and serve Serve Masala Karela along with Panchmel Dal and Phulka for a weekday meal with your family '"
      ]
     },
     "execution_count": 22,
     "metadata": {},
     "output_type": "execute_result"
    }
   ],
   "source": [
    "#Removing Extra Spaces and \\n and replacing with a single space:\n",
    "re.sub(r\"[ \\n]+\" , \" \" , text , flags=re.MULTILINE)"
   ]
  },
  {
   "cell_type": "code",
   "execution_count": 15,
   "id": "d9ad11fa-838e-4724-9b3a-6e0d1514d2b4",
   "metadata": {},
   "outputs": [],
   "source": [
    "#Doing all sorts of Text Cleaning in One Function:\n",
    "def preprocess(text):\n",
    "    #Substitute the Punctuation Marks Or Special Characters with blank space:\n",
    "    text = re.sub(r'[^\\w\\s]' ,' ',text,flags=re.MULTILINE)\n",
    "    #Removing Extra Spaces and \\n and replacing with a single space:\n",
    "    text = re.sub(r\"[ \\n]+\" , \" \" , text , flags=re.MULTILINE)\n",
    "    #Removing Leading and Trailing Spaces and Also Convert All Words to Lower Case:\n",
    "    return text.strip().lower()"
   ]
  },
  {
   "cell_type": "code",
   "execution_count": 16,
   "id": "b3b8a768-e078-4aa4-ba03-2653d1bf45ab",
   "metadata": {},
   "outputs": [
    {
     "data": {
      "text/plain": [
       "'to begin making the masala karela recipe de seed the karela and slice do not remove the skin as the skin has all the nutrients add the karela to the pressure cooker with 3 tablespoon of water salt and turmeric powder and pressure cook for three whistles release the pressure immediately and open the lids keep aside heat oil in a heavy bottomed pan or a kadhai add cumin seeds and let it sizzle once the cumin seeds have sizzled add onions and saute them till it turns golden brown in color add the karela red chilli powder amchur powder coriander powder and besan stir to combine the masalas into the karela drizzle a little extra oil on the top and mix again cover the pan and simmer masala karela stirring occasionally until everything comes together well turn off the heat transfer masala karela into a serving bowl and serve serve masala karela along with panchmel dal and phulka for a weekday meal with your family'"
      ]
     },
     "execution_count": 16,
     "metadata": {},
     "output_type": "execute_result"
    }
   ],
   "source": [
    "preprocess(text)"
   ]
  },
  {
   "cell_type": "code",
   "execution_count": 17,
   "id": "7a0fb35b-41a0-4b65-9958-bde0fa918297",
   "metadata": {},
   "outputs": [],
   "source": [
    "#Applying Preprocessing On All Rows:\n",
    "df.TranslatedInstructions = df.TranslatedInstructions.map(preprocess)"
   ]
  },
  {
   "cell_type": "code",
   "execution_count": 18,
   "id": "2ff89172-7458-4fc8-9633-48223fd2176f",
   "metadata": {},
   "outputs": [
    {
     "data": {
      "text/plain": [
       "'to begin making pudina khara pongal recipe wash and soak the rice and dal for 20 minutes make a paste of mint pudina coriander green chilli and ginger using a mixer grinder and keep aside now heat oil in the pressure cooker add the cumin seeds and let it crackle add the soaked rice and dal and fry for a few minutes add the mint coriander paste and saute for a minute add 5 cups of water season with salt and pressure cook for 4 to 5 whistles and keep aside in the mean prepare the tadka by heating ghee in a small tadka pan add in the cumin seeds peppercorns and let it crackle add the cashew halves and fry till they turn golden add the curry leaves and asafoetida and turn off the flame once the pressure has been released open the lid and mash the pongal mixture add in the tadka over it and serve the pudina khara pongal recipe along with kathirikai gothsu recipe spicy and tangy eggplant curry and south indian coconut chutney for a relaxed weekend breakfast'"
      ]
     },
     "execution_count": 18,
     "metadata": {},
     "output_type": "execute_result"
    }
   ],
   "source": [
    "df.TranslatedInstructions[5]"
   ]
  },
  {
   "cell_type": "code",
   "execution_count": 20,
   "id": "0e3ccc13-0cf2-4723-b8cf-ed38b28c63bd",
   "metadata": {},
   "outputs": [],
   "source": [
    "#Export The Recipe Data TranslatedInstructions to a text format file because fastText Needs a file of certain format as input:\n",
    "df.to_csv(\"food_recipes.txt\" , columns=['TranslatedInstructions'] , header=None , index=False)"
   ]
  },
  {
   "cell_type": "code",
   "execution_count": 34,
   "id": "896cec4d-75c6-4c9a-aa80-6cfd3e6b600c",
   "metadata": {},
   "outputs": [],
   "source": [
    "#Training the Model:\n",
    "#The Unsupervised Model Is Used To Generate Word Embeddings\n",
    "ftxt_model = fasttext.train_unsupervised(\"food_recipes.txt\")"
   ]
  },
  {
   "cell_type": "code",
   "execution_count": 32,
   "id": "9c39bbe8-0125-4165-9c2d-2a2e036dab74",
   "metadata": {},
   "outputs": [
    {
     "data": {
      "text/plain": [
       "[(0.7014429569244385, 'Posto'),\n",
       " (0.6349300146102905, 'disposto'),\n",
       " (0.5965773463249207, 'comunque'),\n",
       " (0.5937293171882629, 'luogo'),\n",
       " (0.5840638279914856, 'paese'),\n",
       " (0.5769134163856506, 'dal'),\n",
       " (0.5602226257324219, 'godere'),\n",
       " (0.553655207157135, 'giardino'),\n",
       " (0.549929678440094, 'silenzioso'),\n",
       " (0.5492927432060242, 'parcheggio')]"
      ]
     },
     "execution_count": 32,
     "metadata": {},
     "output_type": "execute_result"
    }
   ],
   "source": [
    "#Get Similarity Between Words Using the Model Trained On Google News (Testing \"Posto\" Bengali Dish):\n",
    "model_en.get_nearest_neighbors(\"posto\")"
   ]
  },
  {
   "cell_type": "code",
   "execution_count": 33,
   "id": "bcea8a52-1479-46c7-940a-ef895d7b6753",
   "metadata": {},
   "outputs": [
    {
     "data": {
      "text/plain": [
       "[(0.8874371647834778, 'poshto'),\n",
       " (0.8123030662536621, 'shorshe'),\n",
       " (0.8065570592880249, 'potol'),\n",
       " (0.8009213805198669, 'chingri'),\n",
       " (0.7788767218589783, 'kumro'),\n",
       " (0.778550922870636, 'jhol'),\n",
       " (0.7740190625190735, 'doi'),\n",
       " (0.7729259133338928, 'maach'),\n",
       " (0.7681064009666443, 'bengali'),\n",
       " (0.7652146816253662, 'porota')]"
      ]
     },
     "execution_count": 33,
     "metadata": {},
     "output_type": "execute_result"
    }
   ],
   "source": [
    "#Get Similarity Between Words Using the custom model which we trained (Testing \"Posto\" Bengali Dish):\n",
    "ftxt_model.get_nearest_neighbors(\"posto\")"
   ]
  }
 ],
 "metadata": {
  "kernelspec": {
   "display_name": "Python 3 (ipykernel)",
   "language": "python",
   "name": "python3"
  },
  "language_info": {
   "codemirror_mode": {
    "name": "ipython",
    "version": 3
   },
   "file_extension": ".py",
   "mimetype": "text/x-python",
   "name": "python",
   "nbconvert_exporter": "python",
   "pygments_lexer": "ipython3",
   "version": "3.12.1"
  }
 },
 "nbformat": 4,
 "nbformat_minor": 5
}
