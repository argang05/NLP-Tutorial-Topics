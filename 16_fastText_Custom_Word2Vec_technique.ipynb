{
 "cells": [
  {
   "cell_type": "code",
   "execution_count": 2,
   "id": "9169c8e1-1ca5-4d67-916d-e857bc383ea6",
   "metadata": {},
   "outputs": [
    {
     "name": "stdout",
     "output_type": "stream",
     "text": [
      "Collecting fasttext-wheel\n",
      "  Using cached fasttext_wheel-0.9.2-cp312-cp312-win_amd64.whl.metadata (16 kB)\n",
      "Requirement already satisfied: pybind11>=2.2 in c:\\python312\\lib\\site-packages (from fasttext-wheel) (2.13.6)\n",
      "Requirement already satisfied: setuptools>=0.7.0 in c:\\python312\\lib\\site-packages (from fasttext-wheel) (75.8.0)\n",
      "Requirement already satisfied: numpy in c:\\users\\abhirup\\appdata\\roaming\\python\\python312\\site-packages (from fasttext-wheel) (1.26.4)\n",
      "Using cached fasttext_wheel-0.9.2-cp312-cp312-win_amd64.whl (234 kB)\n",
      "Installing collected packages: fasttext-wheel\n",
      "Successfully installed fasttext-wheel-0.9.2\n"
     ]
    }
   ],
   "source": [
    "import sys\n",
    "!{sys.executable} -m pip install fasttext-wheel"
   ]
  },
  {
   "cell_type": "code",
   "execution_count": 3,
   "id": "1593f24e-a178-417a-89a8-1199c136064b",
   "metadata": {},
   "outputs": [],
   "source": [
    "import fasttext"
   ]
  },
  {
   "cell_type": "code",
   "execution_count": 4,
   "id": "1fb32626-79e5-45e6-8999-9bf497bab180",
   "metadata": {},
   "outputs": [],
   "source": [
    "model_en = fasttext.load_model(\"D:\\\\fastText Models\\\\cc.en.300.bin\")"
   ]
  },
  {
   "cell_type": "code",
   "execution_count": 5,
   "id": "068e6b55-deea-4824-899e-9967902dff15",
   "metadata": {},
   "outputs": [
    {
     "data": {
      "text/plain": [
       "[(0.7517593502998352, 'bad'),\n",
       " (0.7426098585128784, 'great'),\n",
       " (0.7299689054489136, 'decent'),\n",
       " (0.7123614549636841, 'nice'),\n",
       " (0.6796907186508179, 'Good'),\n",
       " (0.6737031936645508, 'excellent'),\n",
       " (0.669592022895813, 'goood'),\n",
       " (0.6602178812026978, 'ggod'),\n",
       " (0.6479219794273376, 'semi-good'),\n",
       " (0.6417751908302307, 'good.Good')]"
      ]
     },
     "execution_count": 5,
     "metadata": {},
     "output_type": "execute_result"
    }
   ],
   "source": [
    "#Get Similarity Between Words:\n",
    "model_en.get_nearest_neighbors(\"good\")"
   ]
  },
  {
   "cell_type": "code",
   "execution_count": 6,
   "id": "f8260985-657c-4a91-9b53-41851b6d2714",
   "metadata": {},
   "outputs": [
    {
     "data": {
      "text/plain": [
       "(0.7148876190185547, 'delhi')"
      ]
     },
     "execution_count": 6,
     "metadata": {},
     "output_type": "execute_result"
    }
   ],
   "source": [
    "#Getting Analogies:\n",
    "#Understanding the Similarity between berlin and germany and then determining similar word for india\n",
    "model_en.get_analogies(\"berlin\",\"germany\",\"india\")[0]"
   ]
  },
  {
   "cell_type": "code",
   "execution_count": null,
   "id": "378fc046-5fc4-4c64-9fde-0cae733c9be2",
   "metadata": {},
   "outputs": [],
   "source": [
    "# Generating Word Embedding For Indian Food Recipes"
   ]
  }
 ],
 "metadata": {
  "kernelspec": {
   "display_name": "Python 3 (ipykernel)",
   "language": "python",
   "name": "python3"
  },
  "language_info": {
   "codemirror_mode": {
    "name": "ipython",
    "version": 3
   },
   "file_extension": ".py",
   "mimetype": "text/x-python",
   "name": "python",
   "nbconvert_exporter": "python",
   "pygments_lexer": "ipython3",
   "version": "3.12.1"
  }
 },
 "nbformat": 4,
 "nbformat_minor": 5
}
